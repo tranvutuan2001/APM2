{
 "cells": [
  {
   "cell_type": "code",
   "execution_count": 1,
   "metadata": {
    "pycharm": {
     "name": "#%%\n"
    }
   },
   "outputs": [],
   "source": [
    "import pandas as pd\n",
    "import numpy as np\n",
    "import pm4py"
   ]
  },
  {
   "cell_type": "markdown",
   "metadata": {},
   "source": [
    "# Question 1"
   ]
  },
  {
   "cell_type": "markdown",
   "metadata": {},
   "source": [
    " <font size=\"6\">1b</font>"
   ]
  },
  {
   "cell_type": "code",
   "execution_count": 2,
   "metadata": {},
   "outputs": [
    {
     "data": {
      "application/vnd.jupyter.widget-view+json": {
       "model_id": "1dfbaa137fc24ce7a7607ab293ea0a9a",
       "version_major": 2,
       "version_minor": 0
      },
      "text/plain": [
       "parsing log, completed traces ::   0%|          | 0/29067 [00:00<?, ?it/s]"
      ]
     },
     "metadata": {},
     "output_type": "display_data"
    }
   ],
   "source": [
    "# Import the log\n",
    "log = pm4py.read_xes(\"loanApplications.xes.gz\")"
   ]
  },
  {
   "cell_type": "code",
   "execution_count": 3,
   "metadata": {},
   "outputs": [
    {
     "name": "stdout",
     "output_type": "stream",
     "text": [
      "Ratio of sucessful applications: 54.74249148518939%\n"
     ]
    }
   ],
   "source": [
    "num_traces = len(log) # Number of traces in the log\n",
    "# Cases of successful applications\n",
    "log_successful = pm4py.filter_event_attribute_values(log, \"concept:name\", [\"A_Pending\"], level=\"case\", retain=True)\n",
    "num_traces_successful = len(log_successful)\n",
    "print(f\"Ratio of sucessful applications: {num_traces_successful/num_traces*100}%\")"
   ]
  },
  {
   "cell_type": "code",
   "execution_count": 4,
   "metadata": {},
   "outputs": [
    {
     "name": "stdout",
     "output_type": "stream",
     "text": [
      "Ratio of unsucessful applications: 44.944438710565244%\n"
     ]
    }
   ],
   "source": [
    "# Cases of unsuccessful applications\n",
    "log_unsuccessful = pm4py.filter_event_attribute_values(log, \"concept:name\", [\"A_Denied\", \"A_Cancelled\"], level=\"case\", retain=True)\n",
    "num_traces_unsuccessful = len(log_unsuccessful)\n",
    "print(f\"Ratio of unsucessful applications: {num_traces_unsuccessful/num_traces*100}%\")"
   ]
  },
  {
   "cell_type": "code",
   "execution_count": 5,
   "metadata": {},
   "outputs": [],
   "source": [
    "# Helper function to inspect attribute values \n",
    "def inspect_attribute(log, log_successful, attribute):\n",
    "    columns = [attribute, \"num_cases\", \"successful_ratio_percentage\"]\n",
    "    data = []\n",
    "    # Get all attribute values\n",
    "    att_values = pm4py.get_trace_attribute_values(log, attribute)\n",
    "    att_values_successful = pm4py.get_trace_attribute_values(log_successful, attribute)\n",
    "    # Calculate num cases and successful ratio for each attribute value\n",
    "    for val in att_values:\n",
    "        num_traces_val = att_values[val]\n",
    "        num_traces_val_successful = att_values_successful.get(val, 0)\n",
    "        data.append([val, num_traces_val, num_traces_val_successful/num_traces_val*100])\n",
    "    # Return a result table\n",
    "    df = pd.DataFrame(columns=columns, data=data)\n",
    "    return df"
   ]
  },
  {
   "cell_type": "code",
   "execution_count": 6,
   "metadata": {},
   "outputs": [
    {
     "data": {
      "text/html": [
       "<div>\n",
       "<style scoped>\n",
       "    .dataframe tbody tr th:only-of-type {\n",
       "        vertical-align: middle;\n",
       "    }\n",
       "\n",
       "    .dataframe tbody tr th {\n",
       "        vertical-align: top;\n",
       "    }\n",
       "\n",
       "    .dataframe thead th {\n",
       "        text-align: right;\n",
       "    }\n",
       "</style>\n",
       "<table border=\"1\" class=\"dataframe\">\n",
       "  <thead>\n",
       "    <tr style=\"text-align: right;\">\n",
       "      <th></th>\n",
       "      <th>ApplicationType</th>\n",
       "      <th>num_cases</th>\n",
       "      <th>successful_ratio_percentage</th>\n",
       "    </tr>\n",
       "  </thead>\n",
       "  <tbody>\n",
       "    <tr>\n",
       "      <th>0</th>\n",
       "      <td>New credit</td>\n",
       "      <td>25939</td>\n",
       "      <td>52.511662</td>\n",
       "    </tr>\n",
       "    <tr>\n",
       "      <th>1</th>\n",
       "      <td>Limit raise</td>\n",
       "      <td>3128</td>\n",
       "      <td>73.241688</td>\n",
       "    </tr>\n",
       "  </tbody>\n",
       "</table>\n",
       "</div>"
      ],
      "text/plain": [
       "  ApplicationType  num_cases  successful_ratio_percentage\n",
       "0      New credit      25939                    52.511662\n",
       "1     Limit raise       3128                    73.241688"
      ]
     },
     "execution_count": 6,
     "metadata": {},
     "output_type": "execute_result"
    }
   ],
   "source": [
    "# Inspect ApplicationType\n",
    "inspect_attribute(log, log_successful, \"ApplicationType\")"
   ]
  },
  {
   "cell_type": "code",
   "execution_count": 7,
   "metadata": {},
   "outputs": [
    {
     "data": {
      "text/html": [
       "<div>\n",
       "<style scoped>\n",
       "    .dataframe tbody tr th:only-of-type {\n",
       "        vertical-align: middle;\n",
       "    }\n",
       "\n",
       "    .dataframe tbody tr th {\n",
       "        vertical-align: top;\n",
       "    }\n",
       "\n",
       "    .dataframe thead th {\n",
       "        text-align: right;\n",
       "    }\n",
       "</style>\n",
       "<table border=\"1\" class=\"dataframe\">\n",
       "  <thead>\n",
       "    <tr style=\"text-align: right;\">\n",
       "      <th></th>\n",
       "      <th>LoanGoal</th>\n",
       "      <th>num_cases</th>\n",
       "      <th>successful_ratio_percentage</th>\n",
       "    </tr>\n",
       "  </thead>\n",
       "  <tbody>\n",
       "    <tr>\n",
       "      <th>0</th>\n",
       "      <td>Existing loan takeover</td>\n",
       "      <td>5160</td>\n",
       "      <td>55.019380</td>\n",
       "    </tr>\n",
       "    <tr>\n",
       "      <th>1</th>\n",
       "      <td>Home improvement</td>\n",
       "      <td>7086</td>\n",
       "      <td>58.777872</td>\n",
       "    </tr>\n",
       "    <tr>\n",
       "      <th>2</th>\n",
       "      <td>Car</td>\n",
       "      <td>8569</td>\n",
       "      <td>51.184502</td>\n",
       "    </tr>\n",
       "    <tr>\n",
       "      <th>3</th>\n",
       "      <td>Other, see explanation</td>\n",
       "      <td>2763</td>\n",
       "      <td>50.922910</td>\n",
       "    </tr>\n",
       "    <tr>\n",
       "      <th>4</th>\n",
       "      <td>Remaining debt home</td>\n",
       "      <td>792</td>\n",
       "      <td>64.520202</td>\n",
       "    </tr>\n",
       "    <tr>\n",
       "      <th>5</th>\n",
       "      <td>Not speficied</td>\n",
       "      <td>989</td>\n",
       "      <td>41.051567</td>\n",
       "    </tr>\n",
       "    <tr>\n",
       "      <th>6</th>\n",
       "      <td>Unknown</td>\n",
       "      <td>2165</td>\n",
       "      <td>63.510393</td>\n",
       "    </tr>\n",
       "    <tr>\n",
       "      <th>7</th>\n",
       "      <td>Caravan / Camper</td>\n",
       "      <td>351</td>\n",
       "      <td>57.834758</td>\n",
       "    </tr>\n",
       "    <tr>\n",
       "      <th>8</th>\n",
       "      <td>Tax payments</td>\n",
       "      <td>141</td>\n",
       "      <td>48.936170</td>\n",
       "    </tr>\n",
       "    <tr>\n",
       "      <th>9</th>\n",
       "      <td>Extra spending limit</td>\n",
       "      <td>585</td>\n",
       "      <td>53.333333</td>\n",
       "    </tr>\n",
       "    <tr>\n",
       "      <th>10</th>\n",
       "      <td>Motorcycle</td>\n",
       "      <td>252</td>\n",
       "      <td>49.603175</td>\n",
       "    </tr>\n",
       "    <tr>\n",
       "      <th>11</th>\n",
       "      <td>Boat</td>\n",
       "      <td>184</td>\n",
       "      <td>57.608696</td>\n",
       "    </tr>\n",
       "    <tr>\n",
       "      <th>12</th>\n",
       "      <td>Business goal</td>\n",
       "      <td>28</td>\n",
       "      <td>28.571429</td>\n",
       "    </tr>\n",
       "    <tr>\n",
       "      <th>13</th>\n",
       "      <td>Debt restructuring</td>\n",
       "      <td>2</td>\n",
       "      <td>0.000000</td>\n",
       "    </tr>\n",
       "  </tbody>\n",
       "</table>\n",
       "</div>"
      ],
      "text/plain": [
       "                  LoanGoal  num_cases  successful_ratio_percentage\n",
       "0   Existing loan takeover       5160                    55.019380\n",
       "1         Home improvement       7086                    58.777872\n",
       "2                      Car       8569                    51.184502\n",
       "3   Other, see explanation       2763                    50.922910\n",
       "4      Remaining debt home        792                    64.520202\n",
       "5            Not speficied        989                    41.051567\n",
       "6                  Unknown       2165                    63.510393\n",
       "7         Caravan / Camper        351                    57.834758\n",
       "8             Tax payments        141                    48.936170\n",
       "9     Extra spending limit        585                    53.333333\n",
       "10              Motorcycle        252                    49.603175\n",
       "11                    Boat        184                    57.608696\n",
       "12           Business goal         28                    28.571429\n",
       "13      Debt restructuring          2                     0.000000"
      ]
     },
     "execution_count": 7,
     "metadata": {},
     "output_type": "execute_result"
    }
   ],
   "source": [
    "# Inspect LoanGoal\n",
    "inspect_attribute(log, log_successful, \"LoanGoal\")"
   ]
  },
  {
   "cell_type": "code",
   "execution_count": 8,
   "metadata": {},
   "outputs": [
    {
     "name": "stdout",
     "output_type": "stream",
     "text": [
      "The number of offers created in L is 39758.\n"
     ]
    }
   ],
   "source": [
    "# Number of offers created\n",
    "activities = pm4py.get_event_attribute_values(log, \"concept:name\")\n",
    "print(f\"The number of offers created in L is {activities['O_Create Offer']}.\")"
   ]
  },
  {
   "cell_type": "code",
   "execution_count": 9,
   "metadata": {},
   "outputs": [
    {
     "name": "stdout",
     "output_type": "stream",
     "text": [
      "7936\n",
      "The ratio of applications with more than one loan offer is 27.302439192211096%\n"
     ]
    }
   ],
   "source": [
    "# Cases where O_Create Offer happened at least twice\n",
    "log_repeated_offers = pm4py.filter_activities_rework(log, \"O_Create Offer\", 2)\n",
    "print(len(log_repeated_offers))\n",
    "print(f\"The ratio of applications with more than one loan offer is {len(log_repeated_offers)/num_traces*100}%\")"
   ]
  },
  {
   "cell_type": "code",
   "execution_count": 10,
   "metadata": {},
   "outputs": [
    {
     "name": "stdout",
     "output_type": "stream",
     "text": [
      "The number of refused offers in L is 4307.\n",
      "The ratio of refused offers is 10.833039891342624%.\n"
     ]
    }
   ],
   "source": [
    "# Refused offers\n",
    "print(f\"The number of refused offers in L is {activities['O_Refused']}.\")\n",
    "print(f\"The ratio of refused offers is {activities['O_Refused']/activities['O_Create Offer']*100}%.\")"
   ]
  },
  {
   "cell_type": "markdown",
   "metadata": {},
   "source": [
    " <font size=\"6\">1c</font>"
   ]
  },
  {
   "cell_type": "code",
   "execution_count": 13,
   "metadata": {},
   "outputs": [
    {
     "data": {
      "application/vnd.jupyter.widget-view+json": {
       "model_id": "359e06834fdc4253b566b67c93c94ea9",
       "version_major": 2,
       "version_minor": 0
      },
      "text/plain": [
       "exporting log, completed traces ::   0%|          | 0/6751 [00:00<?, ?it/s]"
      ]
     },
     "metadata": {},
     "output_type": "display_data"
    }
   ],
   "source": [
    "# Creating L_sparse\n",
    "# L_sparse containing cases between 30d8h53m24s and 34h9h12m5s\n",
    "log_sparse = pm4py.filter_case_performance(log, 30*24*60*60 + 8*60*60 + 53*60 + 24, 34*24*60*60 + 9*60*60 + 12*60 + 5)\n",
    "pm4py.write_xes(log_sparse, 'log_sparse.xes')"
   ]
  },
  {
   "cell_type": "markdown",
   "metadata": {},
   "source": [
    " <font size=\"6\">1d</font>"
   ]
  },
  {
   "cell_type": "code",
   "execution_count": 26,
   "metadata": {},
   "outputs": [
    {
     "data": {
      "text/plain": [
       "{'W_Validate application': 11643,\n",
       " 'O_Cancelled': 4120,\n",
       " 'W_Call after offers': 8722,\n",
       " 'W_Call incomplete files': 4320,\n",
       " 'W_Complete application': 134,\n",
       " 'W_Assess potential fraud': 97,\n",
       " 'W_Personal Loan collection': 2,\n",
       " 'W_Shortened completion': 5,\n",
       " 'A_Denied': 1,\n",
       " 'O_Sent (online only)': 8,\n",
       " 'O_Sent (mail and online)': 14,\n",
       " 'O_Returned': 1}"
      ]
     },
     "execution_count": 26,
     "metadata": {},
     "output_type": "execute_result"
    }
   ],
   "source": [
    "# End activities in L\n",
    "end_activities = pm4py.get_end_activities(log)\n",
    "end_activities"
   ]
  },
  {
   "cell_type": "code",
   "execution_count": 32,
   "metadata": {},
   "outputs": [
    {
     "data": {
      "application/vnd.jupyter.widget-view+json": {
       "model_id": "776c337b79f44094b01c7e19280df604",
       "version_major": 2,
       "version_minor": 0
      },
      "text/plain": [
       "exporting log, completed traces ::   0%|          | 0/28976 [00:00<?, ?it/s]"
      ]
     },
     "metadata": {},
     "output_type": "display_data"
    }
   ],
   "source": [
    "# Creating L_complete\n",
    "allowed_end_acts = set([key for key in end_activities]) - set([\"O_Sent (online only)\", \"O_Sent (mail and online)\", \"O_Returned\"])\n",
    "log_1 = pm4py.filter_event_attribute_values(log, \"concept:name\", [\"A_Pending\", \"A_Denied\", \"A_Cancelled\"], level=\"case\", retain=True)\n",
    "log_complete = pm4py.filter_end_activities(log_1, list(allowed_end_acts))\n",
    "pm4py.write_xes(log_complete, 'log_complete.xes')"
   ]
  },
  {
   "cell_type": "code",
   "execution_count": 33,
   "metadata": {},
   "outputs": [
    {
     "data": {
      "text/plain": [
       "{'A_Create Application': 29067,\n",
       " 'A_Submitted': 18830,\n",
       " 'W_Handle leads': 43628,\n",
       " 'W_Complete application': 137395,\n",
       " 'A_Concept': 29067,\n",
       " 'A_Accepted': 29067,\n",
       " 'O_Create Offer': 39758,\n",
       " 'O_Created': 39758,\n",
       " 'O_Sent (mail and online)': 36681,\n",
       " 'W_Call after offers': 176422,\n",
       " 'A_Complete': 28930,\n",
       " 'W_Validate application': 193107,\n",
       " 'A_Validating': 35838,\n",
       " 'O_Returned': 21498,\n",
       " 'W_Call incomplete files': 155930,\n",
       " 'A_Incomplete': 21314,\n",
       " 'O_Accepted': 15912,\n",
       " 'A_Pending': 15912,\n",
       " 'A_Denied': 3440,\n",
       " 'O_Refused': 4307,\n",
       " 'O_Cancelled': 19376,\n",
       " 'A_Cancelled': 9625,\n",
       " 'O_Sent (online only)': 1880,\n",
       " 'W_Assess potential fraud': 3048,\n",
       " 'W_Personal Loan collection': 22,\n",
       " 'W_Shortened completion': 220}"
      ]
     },
     "execution_count": 33,
     "metadata": {},
     "output_type": "execute_result"
    }
   ],
   "source": [
    "pm4py.get_event_attribute_values(log, \"concept:name\")"
   ]
  },
  {
   "cell_type": "markdown",
   "metadata": {
    "pycharm": {
     "name": "#%% md\n"
    }
   },
   "source": [
    "# Question 2"
   ]
  },
  {
   "cell_type": "markdown",
   "metadata": {
    "pycharm": {
     "name": "#%% md\n"
    }
   },
   "source": [
    " <font size=\"6\">2a</font>"
   ]
  },
  {
   "cell_type": "code",
   "execution_count": 2,
   "metadata": {
    "pycharm": {
     "name": "#%%\n"
    }
   },
   "outputs": [
    {
     "data": {
      "application/vnd.jupyter.widget-view+json": {
       "model_id": "71ed633274934137bde88621ab5876b5",
       "version_major": 2,
       "version_minor": 0
      },
      "text/plain": [
       "parsing log, completed traces ::   0%|          | 0/28976 [00:00<?, ?it/s]"
      ]
     },
     "metadata": {},
     "output_type": "display_data"
    }
   ],
   "source": [
    "log_2a = pm4py.read_xes('loanApplicationsFiltered.xes.gz')"
   ]
  },
  {
   "cell_type": "code",
   "execution_count": 3,
   "metadata": {
    "pycharm": {
     "name": "#%%\n"
    }
   },
   "outputs": [],
   "source": [
    "import re\n",
    "\n",
    "activities = list(pm4py.get_event_attribute_values(log_2a, \"concept:name\").keys())\n",
    "\n",
    "\n",
    "def get_all_activities_by_types(type='A'):\n",
    "    res = []\n",
    "    regex = '^A_.*'\n",
    "    if type == 'W':\n",
    "        regex = '^W_.*'\n",
    "    elif type == 'O':\n",
    "        regex = '^O_.*'\n",
    "    for act in activities:\n",
    "        if re.match(regex, act):\n",
    "            res.append(act)\n",
    "    return res\n",
    "\n",
    "\n",
    "A_activites = get_all_activities_by_types()\n",
    "W_activites = get_all_activities_by_types('W')\n",
    "O_activites = get_all_activities_by_types('O')"
   ]
  },
  {
   "cell_type": "code",
   "execution_count": 4,
   "metadata": {
    "pycharm": {
     "name": "#%%\n"
    }
   },
   "outputs": [],
   "source": [
    "L_A = pm4py.filter_event_attribute_values(log_2a, 'concept:name', A_activites, level='event', retain=True)\n",
    "L_W = pm4py.filter_event_attribute_values(log_2a, 'concept:name', W_activites, level='event', retain=True)\n",
    "L_O = pm4py.filter_event_attribute_values(log_2a, 'concept:name', O_activites, level='event', retain=True)"
   ]
  },
  {
   "cell_type": "code",
   "execution_count": 5,
   "metadata": {
    "pycharm": {
     "name": "#%%\n"
    }
   },
   "outputs": [],
   "source": [
    "def get_basic_stats(log):\n",
    "    number_of_case = len(log)\n",
    "    variants = pm4py.get_variants_as_tuples(log)\n",
    "    number_of_variant = len(variants)\n",
    "    number_of_event = 0\n",
    "    for t in log:\n",
    "        number_of_event += len(t)\n",
    "    avg_number_of_event_per_trace = number_of_event / len(log)\n",
    "    number_of_distinct_activities = len(list(pm4py.get_event_attribute_values(log, \"concept:name\").keys()))\n",
    "    return {\n",
    "        'number_of_case': number_of_case,\n",
    "        'number_of_variant': number_of_variant,\n",
    "        'number_of_event': number_of_event,\n",
    "        'avg_number_of_event_per_trace': avg_number_of_event_per_trace,\n",
    "        'number_of_distinct_activities': number_of_distinct_activities\n",
    "    }\n"
   ]
  },
  {
   "cell_type": "code",
   "execution_count": 6,
   "metadata": {
    "pycharm": {
     "name": "#%%\n"
    }
   },
   "outputs": [
    {
     "data": {
      "text/html": [
       "<div>\n",
       "<style scoped>\n",
       "    .dataframe tbody tr th:only-of-type {\n",
       "        vertical-align: middle;\n",
       "    }\n",
       "\n",
       "    .dataframe tbody tr th {\n",
       "        vertical-align: top;\n",
       "    }\n",
       "\n",
       "    .dataframe thead th {\n",
       "        text-align: right;\n",
       "    }\n",
       "</style>\n",
       "<table border=\"1\" class=\"dataframe\">\n",
       "  <thead>\n",
       "    <tr style=\"text-align: right;\">\n",
       "      <th></th>\n",
       "      <th>number_of_case</th>\n",
       "      <th>number_of_variant</th>\n",
       "      <th>number_of_event</th>\n",
       "      <th>avg_number_of_event_per_trace</th>\n",
       "      <th>number_of_distinct_activities</th>\n",
       "    </tr>\n",
       "  </thead>\n",
       "  <tbody>\n",
       "    <tr>\n",
       "      <th>A</th>\n",
       "      <td>28976</td>\n",
       "      <td>88</td>\n",
       "      <td>220481</td>\n",
       "      <td>7.609090</td>\n",
       "      <td>10</td>\n",
       "    </tr>\n",
       "    <tr>\n",
       "      <th>W</th>\n",
       "      <td>28976</td>\n",
       "      <td>1018</td>\n",
       "      <td>175545</td>\n",
       "      <td>6.058290</td>\n",
       "      <td>6</td>\n",
       "    </tr>\n",
       "    <tr>\n",
       "      <th>O</th>\n",
       "      <td>28976</td>\n",
       "      <td>815</td>\n",
       "      <td>178612</td>\n",
       "      <td>6.164136</td>\n",
       "      <td>8</td>\n",
       "    </tr>\n",
       "  </tbody>\n",
       "</table>\n",
       "</div>"
      ],
      "text/plain": [
       "   number_of_case  number_of_variant  number_of_event  \\\n",
       "A           28976                 88           220481   \n",
       "W           28976               1018           175545   \n",
       "O           28976                815           178612   \n",
       "\n",
       "   avg_number_of_event_per_trace  number_of_distinct_activities  \n",
       "A                       7.609090                             10  \n",
       "W                       6.058290                              6  \n",
       "O                       6.164136                              8  "
      ]
     },
     "execution_count": 6,
     "metadata": {},
     "output_type": "execute_result"
    }
   ],
   "source": [
    "L_A_stats = get_basic_stats(L_A)\n",
    "L_W_stats = get_basic_stats(L_W)\n",
    "L_O_stats = get_basic_stats(L_O)\n",
    "logs_2a_stats = pd.DataFrame([L_A_stats, L_W_stats, L_O_stats], index=['A', 'W', 'O'])\n",
    "logs_2a_stats"
   ]
  },
  {
   "cell_type": "markdown",
   "metadata": {
    "pycharm": {
     "name": "#%% md\n"
    }
   },
   "source": [
    "<font size=\"6\">2b</font>"
   ]
  },
  {
   "cell_type": "code",
   "execution_count": 7,
   "metadata": {
    "pycharm": {
     "name": "#%%\n"
    }
   },
   "outputs": [
    {
     "data": {
      "application/vnd.jupyter.widget-view+json": {
       "model_id": "c92e9114ba8a42a5a9892965759b7b4f",
       "version_major": 2,
       "version_minor": 0
      },
      "text/plain": [
       "parsing log, completed traces ::   0%|          | 0/39589 [00:00<?, ?it/s]"
      ]
     },
     "metadata": {},
     "output_type": "display_data"
    }
   ],
   "source": [
    "L_Os = pm4py.read_xes('./loanOffers.xes.gz')\n"
   ]
  },
  {
   "cell_type": "code",
   "execution_count": 8,
   "metadata": {
    "pycharm": {
     "name": "#%%\n"
    }
   },
   "outputs": [
    {
     "data": {
      "application/vnd.jupyter.widget-view+json": {
       "model_id": "f2da757952594042b6c3564af1ec11c0",
       "version_major": 2,
       "version_minor": 0
      },
      "text/plain": [
       "exporting log, completed traces ::   0%|          | 0/28976 [00:00<?, ?it/s]"
      ]
     },
     "metadata": {},
     "output_type": "display_data"
    }
   ],
   "source": [
    "import os\n",
    "if not os.path.exists('./xes'):\n",
    "    os.mkdir('./xes')\n",
    "pm4py.write_xes(L_O, './xes/2aO.xes')"
   ]
  },
  {
   "cell_type": "markdown",
   "metadata": {
    "pycharm": {
     "name": "#%% md\n"
    }
   },
   "source": [
    "<font size=\"6\">2c</font>"
   ]
  },
  {
   "cell_type": "code",
   "execution_count": 6,
   "metadata": {
    "pycharm": {
     "name": "#%%\n"
    }
   },
   "outputs": [],
   "source": [
    "from pm4py.algo.conformance.alignments.petri_net import algorithm as alignments\n",
    "from pm4py.algo.conformance.tokenreplay import algorithm as token_replay\n",
    "from pm4py.algo.evaluation.replay_fitness import algorithm as replay_fitness\n",
    "from pm4py.algo.evaluation.precision import algorithm as precision_evaluator\n",
    "from pm4py.algo.evaluation.simplicity import algorithm as simplicity_evaluator\n",
    "from pm4py.algo.evaluation.generalization import algorithm as generalization_evaluator\n",
    "\n",
    "\n",
    "def fitness_and_precision_calculator(net, initial_marking, final_marking, log_to_apply):\n",
    "    try:\n",
    "        aligned_traces_IM = alignments.apply_log(log_to_apply, net, initial_marking, final_marking)\n",
    "        for alignment in aligned_traces_IM:\n",
    "            if alignment['cost'] > 10:\n",
    "                x = 3\n",
    "        fitness_alignment_IM = replay_fitness.evaluate(aligned_traces_IM, variant=replay_fitness.Variants.ALIGNMENT_BASED)\n",
    "        precision_alignment_IM = precision_evaluator.apply(log_to_apply, net, initial_marking, final_marking,\n",
    "                                                           variant=precision_evaluator.Variants.ALIGN_ETCONFORMANCE)\n",
    "    except:\n",
    "        fitness_alignment_IM = {'percFitTraces': 0, 'averageFitness': 0, 'percentage_of_fitting_traces': 0, 'average_trace_fitness': 0}\n",
    "        precision_alignment_IM = 0\n",
    "    replayed_traces_IM = token_replay.apply(log_to_apply, net, initial_marking, final_marking)\n",
    "    fitness_token_replay_IM = replay_fitness.evaluate(replayed_traces_IM, variant=replay_fitness.Variants.TOKEN_BASED)\n",
    "    precision_token_replay_IM = precision_evaluator.apply(log_to_apply, net, initial_marking, final_marking,\n",
    "                                                          variant=precision_evaluator.Variants.ETCONFORMANCE_TOKEN)\n",
    "\n",
    "    return {\n",
    "        'perc_fit_trace (alignment)': fitness_alignment_IM['percentage_of_fitting_traces'],\n",
    "        'perc_fit_trace (token replay)': fitness_token_replay_IM['percentage_of_fitting_traces'],\n",
    "        'average_fitness (alignment)': fitness_alignment_IM['average_trace_fitness'],\n",
    "        'average_fitness (token replay)': fitness_token_replay_IM['average_trace_fitness'],\n",
    "        'precision (alignment)': precision_alignment_IM,\n",
    "        'precision (token replay)': precision_token_replay_IM,\n",
    "    }\n",
    "\n",
    "\n",
    "def simplicity_and_generalization_calculator(net, initial_marking, final_marking, log_to_apply):\n",
    "    simplicity = simplicity_evaluator.apply(net)\n",
    "    generalization = generalization_evaluator.apply(log_to_apply, net, initial_marking, final_marking)\n",
    "    return simplicity, generalization"
   ]
  },
  {
   "cell_type": "code",
   "execution_count": 11,
   "metadata": {
    "pycharm": {
     "name": "#%%\n"
    }
   },
   "outputs": [
    {
     "data": {
      "application/vnd.jupyter.widget-view+json": {
       "model_id": "aa169828626f4e229031b9c355ef8a9e",
       "version_major": 2,
       "version_minor": 0
      },
      "text/plain": [
       "exporting log, completed traces ::   0%|          | 0/28976 [00:00<?, ?it/s]"
      ]
     },
     "metadata": {},
     "output_type": "display_data"
    },
    {
     "data": {
      "application/vnd.jupyter.widget-view+json": {
       "model_id": "baca79a42d9a41ab8d2523b3117f5136",
       "version_major": 2,
       "version_minor": 0
      },
      "text/plain": [
       "exporting log, completed traces ::   0%|          | 0/28976 [00:00<?, ?it/s]"
      ]
     },
     "metadata": {},
     "output_type": "display_data"
    },
    {
     "data": {
      "application/vnd.jupyter.widget-view+json": {
       "model_id": "412639af9327485ba288ee484a3f5033",
       "version_major": 2,
       "version_minor": 0
      },
      "text/plain": [
       "exporting log, completed traces ::   0%|          | 0/39589 [00:00<?, ?it/s]"
      ]
     },
     "metadata": {},
     "output_type": "display_data"
    },
    {
     "data": {
      "application/vnd.jupyter.widget-view+json": {
       "model_id": "f1d7707b130e43ba86764eb5180175ec",
       "version_major": 2,
       "version_minor": 0
      },
      "text/plain": [
       "aligning log, completed variants ::   0%|          | 0/88 [00:00<?, ?it/s]"
      ]
     },
     "metadata": {},
     "output_type": "display_data"
    },
    {
     "data": {
      "application/vnd.jupyter.widget-view+json": {
       "model_id": "bcc4d00672314393bb602d9e6fccb114",
       "version_major": 2,
       "version_minor": 0
      },
      "text/plain": [
       "computing precision with alignments, completed variants ::   0%|          | 0/58 [00:00<?, ?it/s]"
      ]
     },
     "metadata": {},
     "output_type": "display_data"
    },
    {
     "data": {
      "application/vnd.jupyter.widget-view+json": {
       "model_id": "a4f6c58fc26f4a93a515fd3b31a4e5b2",
       "version_major": 2,
       "version_minor": 0
      },
      "text/plain": [
       "replaying log with TBR, completed variants ::   0%|          | 0/88 [00:00<?, ?it/s]"
      ]
     },
     "metadata": {},
     "output_type": "display_data"
    },
    {
     "data": {
      "application/vnd.jupyter.widget-view+json": {
       "model_id": "15775b0261764cd0b4c095f2815bb007",
       "version_major": 2,
       "version_minor": 0
      },
      "text/plain": [
       "replaying log with TBR, completed variants ::   0%|          | 0/58 [00:00<?, ?it/s]"
      ]
     },
     "metadata": {},
     "output_type": "display_data"
    },
    {
     "data": {
      "application/vnd.jupyter.widget-view+json": {
       "model_id": "2b0db00b1f82423cbf0eb1b25a5be879",
       "version_major": 2,
       "version_minor": 0
      },
      "text/plain": [
       "replaying log with TBR, completed variants ::   0%|          | 0/88 [00:00<?, ?it/s]"
      ]
     },
     "metadata": {},
     "output_type": "display_data"
    },
    {
     "data": {
      "application/vnd.jupyter.widget-view+json": {
       "model_id": "9d336159daa644888d49285f40d48311",
       "version_major": 2,
       "version_minor": 0
      },
      "text/plain": [
       "aligning log, completed variants ::   0%|          | 0/88 [00:00<?, ?it/s]"
      ]
     },
     "metadata": {},
     "output_type": "display_data"
    },
    {
     "data": {
      "application/vnd.jupyter.widget-view+json": {
       "model_id": "79d3453987b049a28e0d776cf2ae4957",
       "version_major": 2,
       "version_minor": 0
      },
      "text/plain": [
       "computing precision with alignments, completed variants ::   0%|          | 0/58 [00:00<?, ?it/s]"
      ]
     },
     "metadata": {},
     "output_type": "display_data"
    },
    {
     "data": {
      "application/vnd.jupyter.widget-view+json": {
       "model_id": "5dbc68fccc5243acbf652ca38e96ae87",
       "version_major": 2,
       "version_minor": 0
      },
      "text/plain": [
       "replaying log with TBR, completed variants ::   0%|          | 0/88 [00:00<?, ?it/s]"
      ]
     },
     "metadata": {},
     "output_type": "display_data"
    },
    {
     "data": {
      "application/vnd.jupyter.widget-view+json": {
       "model_id": "7bab8b595aab48db99aa8a7d7008b5c3",
       "version_major": 2,
       "version_minor": 0
      },
      "text/plain": [
       "replaying log with TBR, completed variants ::   0%|          | 0/58 [00:00<?, ?it/s]"
      ]
     },
     "metadata": {},
     "output_type": "display_data"
    },
    {
     "data": {
      "application/vnd.jupyter.widget-view+json": {
       "model_id": "ecbd201133214d16b88d1ac7e5ac0435",
       "version_major": 2,
       "version_minor": 0
      },
      "text/plain": [
       "replaying log with TBR, completed variants ::   0%|          | 0/88 [00:00<?, ?it/s]"
      ]
     },
     "metadata": {},
     "output_type": "display_data"
    },
    {
     "data": {
      "application/vnd.jupyter.widget-view+json": {
       "model_id": "aa259779a18b404fb781e678a2feabd6",
       "version_major": 2,
       "version_minor": 0
      },
      "text/plain": [
       "aligning log, completed variants ::   0%|          | 0/88 [00:00<?, ?it/s]"
      ]
     },
     "metadata": {},
     "output_type": "display_data"
    },
    {
     "data": {
      "application/vnd.jupyter.widget-view+json": {
       "model_id": "3fc027f07df9411886122bcdd12643c8",
       "version_major": 2,
       "version_minor": 0
      },
      "text/plain": [
       "computing precision with alignments, completed variants ::   0%|          | 0/58 [00:00<?, ?it/s]"
      ]
     },
     "metadata": {},
     "output_type": "display_data"
    },
    {
     "data": {
      "application/vnd.jupyter.widget-view+json": {
       "model_id": "1d7527b0551c49d5a34350b339a91c5f",
       "version_major": 2,
       "version_minor": 0
      },
      "text/plain": [
       "replaying log with TBR, completed variants ::   0%|          | 0/88 [00:00<?, ?it/s]"
      ]
     },
     "metadata": {},
     "output_type": "display_data"
    },
    {
     "data": {
      "application/vnd.jupyter.widget-view+json": {
       "model_id": "83f4adf22f4248dd8553fbacd309469b",
       "version_major": 2,
       "version_minor": 0
      },
      "text/plain": [
       "replaying log with TBR, completed variants ::   0%|          | 0/58 [00:00<?, ?it/s]"
      ]
     },
     "metadata": {},
     "output_type": "display_data"
    },
    {
     "data": {
      "application/vnd.jupyter.widget-view+json": {
       "model_id": "16e065c720354fc593621b610d6be661",
       "version_major": 2,
       "version_minor": 0
      },
      "text/plain": [
       "replaying log with TBR, completed variants ::   0%|          | 0/88 [00:00<?, ?it/s]"
      ]
     },
     "metadata": {},
     "output_type": "display_data"
    },
    {
     "data": {
      "application/vnd.jupyter.widget-view+json": {
       "model_id": "5c9271fef2364065b477d2994a458c98",
       "version_major": 2,
       "version_minor": 0
      },
      "text/plain": [
       "aligning log, completed variants ::   0%|          | 0/88 [00:00<?, ?it/s]"
      ]
     },
     "metadata": {},
     "output_type": "display_data"
    },
    {
     "data": {
      "application/vnd.jupyter.widget-view+json": {
       "model_id": "e046292ddeab4be6bd3649bed6e033c7",
       "version_major": 2,
       "version_minor": 0
      },
      "text/plain": [
       "computing precision with alignments, completed variants ::   0%|          | 0/58 [00:00<?, ?it/s]"
      ]
     },
     "metadata": {},
     "output_type": "display_data"
    },
    {
     "data": {
      "application/vnd.jupyter.widget-view+json": {
       "model_id": "173513bfb8be479181bdae887ed3927f",
       "version_major": 2,
       "version_minor": 0
      },
      "text/plain": [
       "replaying log with TBR, completed variants ::   0%|          | 0/88 [00:00<?, ?it/s]"
      ]
     },
     "metadata": {},
     "output_type": "display_data"
    },
    {
     "data": {
      "application/vnd.jupyter.widget-view+json": {
       "model_id": "cdc645aa520f44a0bcb3935ea42e5127",
       "version_major": 2,
       "version_minor": 0
      },
      "text/plain": [
       "replaying log with TBR, completed variants ::   0%|          | 0/58 [00:00<?, ?it/s]"
      ]
     },
     "metadata": {},
     "output_type": "display_data"
    },
    {
     "data": {
      "application/vnd.jupyter.widget-view+json": {
       "model_id": "95ba6acc2c884080990d1a81264df56d",
       "version_major": 2,
       "version_minor": 0
      },
      "text/plain": [
       "replaying log with TBR, completed variants ::   0%|          | 0/88 [00:00<?, ?it/s]"
      ]
     },
     "metadata": {},
     "output_type": "display_data"
    },
    {
     "data": {
      "application/vnd.jupyter.widget-view+json": {
       "model_id": "a2b2b874eaa841a0b11fd07cc67019a1",
       "version_major": 2,
       "version_minor": 0
      },
      "text/plain": [
       "aligning log, completed variants ::   0%|          | 0/1018 [00:00<?, ?it/s]"
      ]
     },
     "metadata": {},
     "output_type": "display_data"
    },
    {
     "data": {
      "application/vnd.jupyter.widget-view+json": {
       "model_id": "de1dce2098554dfd9f1be2d83acacbb3",
       "version_major": 2,
       "version_minor": 0
      },
      "text/plain": [
       "computing precision with alignments, completed variants ::   0%|          | 0/1534 [00:00<?, ?it/s]"
      ]
     },
     "metadata": {},
     "output_type": "display_data"
    },
    {
     "data": {
      "application/vnd.jupyter.widget-view+json": {
       "model_id": "fc5f99bd6290430f8cdd00ed614e3a21",
       "version_major": 2,
       "version_minor": 0
      },
      "text/plain": [
       "replaying log with TBR, completed variants ::   0%|          | 0/1018 [00:00<?, ?it/s]"
      ]
     },
     "metadata": {},
     "output_type": "display_data"
    },
    {
     "data": {
      "application/vnd.jupyter.widget-view+json": {
       "model_id": "afa1a03065754f85884ef195bbfad6f2",
       "version_major": 2,
       "version_minor": 0
      },
      "text/plain": [
       "replaying log with TBR, completed variants ::   0%|          | 0/1534 [00:00<?, ?it/s]"
      ]
     },
     "metadata": {},
     "output_type": "display_data"
    },
    {
     "data": {
      "application/vnd.jupyter.widget-view+json": {
       "model_id": "03f79dfc1ff4404087eca3496bdb594c",
       "version_major": 2,
       "version_minor": 0
      },
      "text/plain": [
       "replaying log with TBR, completed variants ::   0%|          | 0/1018 [00:00<?, ?it/s]"
      ]
     },
     "metadata": {},
     "output_type": "display_data"
    },
    {
     "data": {
      "application/vnd.jupyter.widget-view+json": {
       "model_id": "7e1195af5d5e40b6895f6f177563857f",
       "version_major": 2,
       "version_minor": 0
      },
      "text/plain": [
       "aligning log, completed variants ::   0%|          | 0/1018 [00:00<?, ?it/s]"
      ]
     },
     "metadata": {},
     "output_type": "display_data"
    },
    {
     "data": {
      "application/vnd.jupyter.widget-view+json": {
       "model_id": "f1ea331dd65a4b7f803f947d77e055b8",
       "version_major": 2,
       "version_minor": 0
      },
      "text/plain": [
       "computing precision with alignments, completed variants ::   0%|          | 0/1534 [00:00<?, ?it/s]"
      ]
     },
     "metadata": {},
     "output_type": "display_data"
    },
    {
     "data": {
      "application/vnd.jupyter.widget-view+json": {
       "model_id": "f587c0b2a3bf4af88c315bf266ac773a",
       "version_major": 2,
       "version_minor": 0
      },
      "text/plain": [
       "replaying log with TBR, completed variants ::   0%|          | 0/1018 [00:00<?, ?it/s]"
      ]
     },
     "metadata": {},
     "output_type": "display_data"
    },
    {
     "data": {
      "application/vnd.jupyter.widget-view+json": {
       "model_id": "703511a6f5484e42860d73af709f042d",
       "version_major": 2,
       "version_minor": 0
      },
      "text/plain": [
       "replaying log with TBR, completed variants ::   0%|          | 0/1534 [00:00<?, ?it/s]"
      ]
     },
     "metadata": {},
     "output_type": "display_data"
    },
    {
     "data": {
      "application/vnd.jupyter.widget-view+json": {
       "model_id": "176baa2401ea4d44856b72e42b304a8e",
       "version_major": 2,
       "version_minor": 0
      },
      "text/plain": [
       "replaying log with TBR, completed variants ::   0%|          | 0/1018 [00:00<?, ?it/s]"
      ]
     },
     "metadata": {},
     "output_type": "display_data"
    },
    {
     "data": {
      "application/vnd.jupyter.widget-view+json": {
       "model_id": "6f042f4a9e3246be9cce715dd187c4a7",
       "version_major": 2,
       "version_minor": 0
      },
      "text/plain": [
       "aligning log, completed variants ::   0%|          | 0/1018 [00:00<?, ?it/s]"
      ]
     },
     "metadata": {},
     "output_type": "display_data"
    },
    {
     "data": {
      "application/vnd.jupyter.widget-view+json": {
       "model_id": "3a9ee89694b64c85aa3c9ac690395720",
       "version_major": 2,
       "version_minor": 0
      },
      "text/plain": [
       "computing precision with alignments, completed variants ::   0%|          | 0/1534 [00:00<?, ?it/s]"
      ]
     },
     "metadata": {},
     "output_type": "display_data"
    },
    {
     "data": {
      "application/vnd.jupyter.widget-view+json": {
       "model_id": "984277bfb5c042c891dff7baa31ee99a",
       "version_major": 2,
       "version_minor": 0
      },
      "text/plain": [
       "replaying log with TBR, completed variants ::   0%|          | 0/1018 [00:00<?, ?it/s]"
      ]
     },
     "metadata": {},
     "output_type": "display_data"
    },
    {
     "data": {
      "application/vnd.jupyter.widget-view+json": {
       "model_id": "edcfbcc0b632441e9c8477576633741c",
       "version_major": 2,
       "version_minor": 0
      },
      "text/plain": [
       "replaying log with TBR, completed variants ::   0%|          | 0/1534 [00:00<?, ?it/s]"
      ]
     },
     "metadata": {},
     "output_type": "display_data"
    },
    {
     "data": {
      "application/vnd.jupyter.widget-view+json": {
       "model_id": "4899240fd1d64188a74f900fc873d3fe",
       "version_major": 2,
       "version_minor": 0
      },
      "text/plain": [
       "replaying log with TBR, completed variants ::   0%|          | 0/1018 [00:00<?, ?it/s]"
      ]
     },
     "metadata": {},
     "output_type": "display_data"
    },
    {
     "data": {
      "application/vnd.jupyter.widget-view+json": {
       "model_id": "aedfec4ef2f04bae82f6fb84c6ed86b8",
       "version_major": 2,
       "version_minor": 0
      },
      "text/plain": [
       "aligning log, completed variants ::   0%|          | 0/1018 [00:00<?, ?it/s]"
      ]
     },
     "metadata": {},
     "output_type": "display_data"
    },
    {
     "data": {
      "application/vnd.jupyter.widget-view+json": {
       "model_id": "af5e63b76f304b50976924128cdf2266",
       "version_major": 2,
       "version_minor": 0
      },
      "text/plain": [
       "computing precision with alignments, completed variants ::   0%|          | 0/1534 [00:00<?, ?it/s]"
      ]
     },
     "metadata": {},
     "output_type": "display_data"
    },
    {
     "data": {
      "application/vnd.jupyter.widget-view+json": {
       "model_id": "82686c250a924017b3d9d4cbddafb3e1",
       "version_major": 2,
       "version_minor": 0
      },
      "text/plain": [
       "replaying log with TBR, completed variants ::   0%|          | 0/1018 [00:00<?, ?it/s]"
      ]
     },
     "metadata": {},
     "output_type": "display_data"
    },
    {
     "data": {
      "application/vnd.jupyter.widget-view+json": {
       "model_id": "44d8ddf4dce44398be19682ecb8c0d30",
       "version_major": 2,
       "version_minor": 0
      },
      "text/plain": [
       "replaying log with TBR, completed variants ::   0%|          | 0/1534 [00:00<?, ?it/s]"
      ]
     },
     "metadata": {},
     "output_type": "display_data"
    },
    {
     "data": {
      "application/vnd.jupyter.widget-view+json": {
       "model_id": "362179854cc54a05a4789c98a075462e",
       "version_major": 2,
       "version_minor": 0
      },
      "text/plain": [
       "replaying log with TBR, completed variants ::   0%|          | 0/1018 [00:00<?, ?it/s]"
      ]
     },
     "metadata": {},
     "output_type": "display_data"
    },
    {
     "data": {
      "application/vnd.jupyter.widget-view+json": {
       "model_id": "c7093057a2ff472aabe4e4117541c0d4",
       "version_major": 2,
       "version_minor": 0
      },
      "text/plain": [
       "replaying log with TBR, completed variants ::   0%|          | 0/12 [00:00<?, ?it/s]"
      ]
     },
     "metadata": {},
     "output_type": "display_data"
    },
    {
     "data": {
      "application/vnd.jupyter.widget-view+json": {
       "model_id": "08d46213957249d2a0fc6fa5ad2f35cd",
       "version_major": 2,
       "version_minor": 0
      },
      "text/plain": [
       "replaying log with TBR, completed variants ::   0%|          | 0/6 [00:00<?, ?it/s]"
      ]
     },
     "metadata": {},
     "output_type": "display_data"
    },
    {
     "data": {
      "application/vnd.jupyter.widget-view+json": {
       "model_id": "8829b7882a434a43b95e3e94c38ff551",
       "version_major": 2,
       "version_minor": 0
      },
      "text/plain": [
       "replaying log with TBR, completed variants ::   0%|          | 0/12 [00:00<?, ?it/s]"
      ]
     },
     "metadata": {},
     "output_type": "display_data"
    },
    {
     "data": {
      "application/vnd.jupyter.widget-view+json": {
       "model_id": "979b00cf2fa941dda8d69f4b2132ba43",
       "version_major": 2,
       "version_minor": 0
      },
      "text/plain": [
       "aligning log, completed variants ::   0%|          | 0/12 [00:00<?, ?it/s]"
      ]
     },
     "metadata": {},
     "output_type": "display_data"
    },
    {
     "data": {
      "application/vnd.jupyter.widget-view+json": {
       "model_id": "6f182651d1c043ebac261db4fa1fb0fc",
       "version_major": 2,
       "version_minor": 0
      },
      "text/plain": [
       "computing precision with alignments, completed variants ::   0%|          | 0/6 [00:00<?, ?it/s]"
      ]
     },
     "metadata": {},
     "output_type": "display_data"
    },
    {
     "data": {
      "application/vnd.jupyter.widget-view+json": {
       "model_id": "469f5825808d49ad93701fc1b5dfc21d",
       "version_major": 2,
       "version_minor": 0
      },
      "text/plain": [
       "replaying log with TBR, completed variants ::   0%|          | 0/12 [00:00<?, ?it/s]"
      ]
     },
     "metadata": {},
     "output_type": "display_data"
    },
    {
     "data": {
      "application/vnd.jupyter.widget-view+json": {
       "model_id": "1ca0cd5de8ae4819beceb389045e6806",
       "version_major": 2,
       "version_minor": 0
      },
      "text/plain": [
       "replaying log with TBR, completed variants ::   0%|          | 0/6 [00:00<?, ?it/s]"
      ]
     },
     "metadata": {},
     "output_type": "display_data"
    },
    {
     "data": {
      "application/vnd.jupyter.widget-view+json": {
       "model_id": "cbf5230a9d0745b985c1363009378fa9",
       "version_major": 2,
       "version_minor": 0
      },
      "text/plain": [
       "replaying log with TBR, completed variants ::   0%|          | 0/12 [00:00<?, ?it/s]"
      ]
     },
     "metadata": {},
     "output_type": "display_data"
    },
    {
     "data": {
      "application/vnd.jupyter.widget-view+json": {
       "model_id": "8a05e179b194462a836e359a5faded69",
       "version_major": 2,
       "version_minor": 0
      },
      "text/plain": [
       "aligning log, completed variants ::   0%|          | 0/12 [00:00<?, ?it/s]"
      ]
     },
     "metadata": {},
     "output_type": "display_data"
    },
    {
     "data": {
      "application/vnd.jupyter.widget-view+json": {
       "model_id": "ebe18dcbb22443f499c4deb2a12cd2d9",
       "version_major": 2,
       "version_minor": 0
      },
      "text/plain": [
       "computing precision with alignments, completed variants ::   0%|          | 0/6 [00:00<?, ?it/s]"
      ]
     },
     "metadata": {},
     "output_type": "display_data"
    },
    {
     "data": {
      "application/vnd.jupyter.widget-view+json": {
       "model_id": "5c2fa4ca45c64835ad4c74464ceac8d9",
       "version_major": 2,
       "version_minor": 0
      },
      "text/plain": [
       "replaying log with TBR, completed variants ::   0%|          | 0/12 [00:00<?, ?it/s]"
      ]
     },
     "metadata": {},
     "output_type": "display_data"
    },
    {
     "data": {
      "application/vnd.jupyter.widget-view+json": {
       "model_id": "0fa33aae55b34c4c9d6340f731c0128b",
       "version_major": 2,
       "version_minor": 0
      },
      "text/plain": [
       "replaying log with TBR, completed variants ::   0%|          | 0/6 [00:00<?, ?it/s]"
      ]
     },
     "metadata": {},
     "output_type": "display_data"
    },
    {
     "data": {
      "application/vnd.jupyter.widget-view+json": {
       "model_id": "68e58f45769f47d2a96a864e7f612d17",
       "version_major": 2,
       "version_minor": 0
      },
      "text/plain": [
       "replaying log with TBR, completed variants ::   0%|          | 0/12 [00:00<?, ?it/s]"
      ]
     },
     "metadata": {},
     "output_type": "display_data"
    },
    {
     "data": {
      "application/vnd.jupyter.widget-view+json": {
       "model_id": "4d50b320ccc3483cb9766021d17bcc9e",
       "version_major": 2,
       "version_minor": 0
      },
      "text/plain": [
       "aligning log, completed variants ::   0%|          | 0/12 [00:00<?, ?it/s]"
      ]
     },
     "metadata": {},
     "output_type": "display_data"
    },
    {
     "data": {
      "application/vnd.jupyter.widget-view+json": {
       "model_id": "b7a0ed70b86a4c5cb608611ddc0088d4",
       "version_major": 2,
       "version_minor": 0
      },
      "text/plain": [
       "computing precision with alignments, completed variants ::   0%|          | 0/6 [00:00<?, ?it/s]"
      ]
     },
     "metadata": {},
     "output_type": "display_data"
    },
    {
     "data": {
      "application/vnd.jupyter.widget-view+json": {
       "model_id": "a533fd39352747d692fed3152091941f",
       "version_major": 2,
       "version_minor": 0
      },
      "text/plain": [
       "replaying log with TBR, completed variants ::   0%|          | 0/12 [00:00<?, ?it/s]"
      ]
     },
     "metadata": {},
     "output_type": "display_data"
    },
    {
     "data": {
      "application/vnd.jupyter.widget-view+json": {
       "model_id": "cc0010c0a1654cfaa3d1d0b3157c5e18",
       "version_major": 2,
       "version_minor": 0
      },
      "text/plain": [
       "replaying log with TBR, completed variants ::   0%|          | 0/6 [00:00<?, ?it/s]"
      ]
     },
     "metadata": {},
     "output_type": "display_data"
    },
    {
     "data": {
      "application/vnd.jupyter.widget-view+json": {
       "model_id": "5cb800924c9b4f85a223a1aa0994356d",
       "version_major": 2,
       "version_minor": 0
      },
      "text/plain": [
       "replaying log with TBR, completed variants ::   0%|          | 0/12 [00:00<?, ?it/s]"
      ]
     },
     "metadata": {},
     "output_type": "display_data"
    }
   ],
   "source": [
    "algos = ['alpha', 'im']\n",
    "noise_thresholds = [0, 0.2, 0.5]\n",
    "log_2c = [(L_A, 'A'), (L_W, 'W'), (L_Os, 'O')]\n",
    "result_2c = {}\n",
    "index_2c = []\n",
    "for log in log_2c:\n",
    "    pm4py.write_xes(log[0], f'./xes/L_{log[1]}.xes')\n",
    "for log_to_apply in log_2c:\n",
    "    for algo in algos:\n",
    "        for threshold in noise_thresholds:\n",
    "            net, initial_marking, final_marking = None, None, None\n",
    "            if algo == 'alpha' and threshold == 0:\n",
    "                net, initial_marking, final_marking = pm4py.discover_petri_net_alpha(log_to_apply[0])\n",
    "            elif algo == 'im':\n",
    "                net, initial_marking, final_marking = pm4py.discover_petri_net_inductive(log_to_apply[0], threshold)\n",
    "            else:\n",
    "                continue\n",
    "\n",
    "            pm4py.write_pnml(net, initial_marking, final_marking, f'./pnml/2c-{log_to_apply[1]}-{algo}-{threshold}.pnml')\n",
    "            index_2c.append(f'{log_to_apply[1]}-{algo}-{threshold}')\n",
    "            fitness_dict = fitness_and_precision_calculator(net, initial_marking, final_marking, log_to_apply[0])\n",
    "            for key in fitness_dict:\n",
    "                if key in result_2c:\n",
    "                    result_2c[key].append(fitness_dict[key])\n",
    "                else:\n",
    "                    result_2c[key] = [fitness_dict[key]]\n",
    "\n",
    "            simplicity, generalization = simplicity_and_generalization_calculator(net, initial_marking, final_marking, log_to_apply[0])\n",
    "            if 'simplicity' in result_2c:\n",
    "                result_2c['simplicity'].append(simplicity)\n",
    "            else:\n",
    "                result_2c['simplicity'] = [simplicity]\n",
    "\n",
    "            if 'generalization' in result_2c:\n",
    "                result_2c['generalization'].append(generalization)\n",
    "            else:\n",
    "                result_2c['generalization'] = [generalization]\n",
    "\n"
   ]
  },
  {
   "cell_type": "code",
   "execution_count": 13,
   "metadata": {
    "pycharm": {
     "name": "#%%\n"
    }
   },
   "outputs": [
    {
     "data": {
      "text/html": [
       "<div>\n",
       "<style scoped>\n",
       "    .dataframe tbody tr th:only-of-type {\n",
       "        vertical-align: middle;\n",
       "    }\n",
       "\n",
       "    .dataframe tbody tr th {\n",
       "        vertical-align: top;\n",
       "    }\n",
       "\n",
       "    .dataframe thead th {\n",
       "        text-align: right;\n",
       "    }\n",
       "</style>\n",
       "<table border=\"1\" class=\"dataframe\">\n",
       "  <thead>\n",
       "    <tr style=\"text-align: right;\">\n",
       "      <th></th>\n",
       "      <th>perc_fit_trace (alignment)</th>\n",
       "      <th>perc_fit_trace (token replay)</th>\n",
       "      <th>average_fitness (alignment)</th>\n",
       "      <th>average_fitness (token replay)</th>\n",
       "      <th>precision (alignment)</th>\n",
       "      <th>precision (token replay)</th>\n",
       "      <th>simplicity</th>\n",
       "      <th>generalization</th>\n",
       "    </tr>\n",
       "  </thead>\n",
       "  <tbody>\n",
       "    <tr>\n",
       "      <th>A-alpha-0</th>\n",
       "      <td>23.840420</td>\n",
       "      <td>23.840420</td>\n",
       "      <td>0.877945</td>\n",
       "      <td>0.872103</td>\n",
       "      <td>0.426619</td>\n",
       "      <td>0.426619</td>\n",
       "      <td>1.000000</td>\n",
       "      <td>0.992186</td>\n",
       "    </tr>\n",
       "    <tr>\n",
       "      <th>A-im-0</th>\n",
       "      <td>100.000000</td>\n",
       "      <td>100.000000</td>\n",
       "      <td>1.000000</td>\n",
       "      <td>1.000000</td>\n",
       "      <td>0.853174</td>\n",
       "      <td>0.853174</td>\n",
       "      <td>0.714286</td>\n",
       "      <td>0.923102</td>\n",
       "    </tr>\n",
       "    <tr>\n",
       "      <th>A-im-0.2</th>\n",
       "      <td>99.527195</td>\n",
       "      <td>99.527195</td>\n",
       "      <td>0.999512</td>\n",
       "      <td>0.999346</td>\n",
       "      <td>0.925764</td>\n",
       "      <td>0.925764</td>\n",
       "      <td>0.735849</td>\n",
       "      <td>0.923466</td>\n",
       "    </tr>\n",
       "    <tr>\n",
       "      <th>A-im-0.5</th>\n",
       "      <td>12.703617</td>\n",
       "      <td>12.703617</td>\n",
       "      <td>0.900150</td>\n",
       "      <td>0.879231</td>\n",
       "      <td>0.978533</td>\n",
       "      <td>0.978533</td>\n",
       "      <td>0.800000</td>\n",
       "      <td>0.901125</td>\n",
       "    </tr>\n",
       "    <tr>\n",
       "      <th>W-alpha-0</th>\n",
       "      <td>0.062120</td>\n",
       "      <td>0.062120</td>\n",
       "      <td>0.426083</td>\n",
       "      <td>0.498860</td>\n",
       "      <td>0.313408</td>\n",
       "      <td>0.313408</td>\n",
       "      <td>1.000000</td>\n",
       "      <td>0.988321</td>\n",
       "    </tr>\n",
       "    <tr>\n",
       "      <th>W-im-0</th>\n",
       "      <td>100.000000</td>\n",
       "      <td>100.000000</td>\n",
       "      <td>1.000000</td>\n",
       "      <td>1.000000</td>\n",
       "      <td>0.507620</td>\n",
       "      <td>0.507620</td>\n",
       "      <td>0.677419</td>\n",
       "      <td>0.982717</td>\n",
       "    </tr>\n",
       "    <tr>\n",
       "      <th>W-im-0.2</th>\n",
       "      <td>99.927526</td>\n",
       "      <td>99.927526</td>\n",
       "      <td>0.999929</td>\n",
       "      <td>0.999971</td>\n",
       "      <td>0.552820</td>\n",
       "      <td>0.552820</td>\n",
       "      <td>0.694915</td>\n",
       "      <td>0.990756</td>\n",
       "    </tr>\n",
       "    <tr>\n",
       "      <th>W-im-0.5</th>\n",
       "      <td>24.679045</td>\n",
       "      <td>24.679045</td>\n",
       "      <td>0.868617</td>\n",
       "      <td>0.905827</td>\n",
       "      <td>0.707679</td>\n",
       "      <td>0.707679</td>\n",
       "      <td>0.725490</td>\n",
       "      <td>0.942955</td>\n",
       "    </tr>\n",
       "    <tr>\n",
       "      <th>O-alpha-0</th>\n",
       "      <td>0.000000</td>\n",
       "      <td>0.000000</td>\n",
       "      <td>0.000000</td>\n",
       "      <td>0.904405</td>\n",
       "      <td>0.000000</td>\n",
       "      <td>0.812486</td>\n",
       "      <td>0.555556</td>\n",
       "      <td>0.990546</td>\n",
       "    </tr>\n",
       "    <tr>\n",
       "      <th>O-im-0</th>\n",
       "      <td>100.000000</td>\n",
       "      <td>100.000000</td>\n",
       "      <td>1.000000</td>\n",
       "      <td>1.000000</td>\n",
       "      <td>0.780093</td>\n",
       "      <td>0.780093</td>\n",
       "      <td>0.666667</td>\n",
       "      <td>0.988802</td>\n",
       "    </tr>\n",
       "    <tr>\n",
       "      <th>O-im-0.2</th>\n",
       "      <td>96.978959</td>\n",
       "      <td>96.978959</td>\n",
       "      <td>0.995684</td>\n",
       "      <td>0.992447</td>\n",
       "      <td>0.897968</td>\n",
       "      <td>0.897968</td>\n",
       "      <td>0.714286</td>\n",
       "      <td>0.990742</td>\n",
       "    </tr>\n",
       "    <tr>\n",
       "      <th>O-im-0.5</th>\n",
       "      <td>54.186769</td>\n",
       "      <td>54.186769</td>\n",
       "      <td>0.944901</td>\n",
       "      <td>0.906863</td>\n",
       "      <td>1.000000</td>\n",
       "      <td>1.000000</td>\n",
       "      <td>0.777778</td>\n",
       "      <td>0.990546</td>\n",
       "    </tr>\n",
       "  </tbody>\n",
       "</table>\n",
       "</div>"
      ],
      "text/plain": [
       "           perc_fit_trace (alignment)  perc_fit_trace (token replay)  \\\n",
       "A-alpha-0                   23.840420                      23.840420   \n",
       "A-im-0                     100.000000                     100.000000   \n",
       "A-im-0.2                    99.527195                      99.527195   \n",
       "A-im-0.5                    12.703617                      12.703617   \n",
       "W-alpha-0                    0.062120                       0.062120   \n",
       "W-im-0                     100.000000                     100.000000   \n",
       "W-im-0.2                    99.927526                      99.927526   \n",
       "W-im-0.5                    24.679045                      24.679045   \n",
       "O-alpha-0                    0.000000                       0.000000   \n",
       "O-im-0                     100.000000                     100.000000   \n",
       "O-im-0.2                    96.978959                      96.978959   \n",
       "O-im-0.5                    54.186769                      54.186769   \n",
       "\n",
       "           average_fitness (alignment)  average_fitness (token replay)  \\\n",
       "A-alpha-0                     0.877945                        0.872103   \n",
       "A-im-0                        1.000000                        1.000000   \n",
       "A-im-0.2                      0.999512                        0.999346   \n",
       "A-im-0.5                      0.900150                        0.879231   \n",
       "W-alpha-0                     0.426083                        0.498860   \n",
       "W-im-0                        1.000000                        1.000000   \n",
       "W-im-0.2                      0.999929                        0.999971   \n",
       "W-im-0.5                      0.868617                        0.905827   \n",
       "O-alpha-0                     0.000000                        0.904405   \n",
       "O-im-0                        1.000000                        1.000000   \n",
       "O-im-0.2                      0.995684                        0.992447   \n",
       "O-im-0.5                      0.944901                        0.906863   \n",
       "\n",
       "           precision (alignment)  precision (token replay)  simplicity  \\\n",
       "A-alpha-0               0.426619                  0.426619    1.000000   \n",
       "A-im-0                  0.853174                  0.853174    0.714286   \n",
       "A-im-0.2                0.925764                  0.925764    0.735849   \n",
       "A-im-0.5                0.978533                  0.978533    0.800000   \n",
       "W-alpha-0               0.313408                  0.313408    1.000000   \n",
       "W-im-0                  0.507620                  0.507620    0.677419   \n",
       "W-im-0.2                0.552820                  0.552820    0.694915   \n",
       "W-im-0.5                0.707679                  0.707679    0.725490   \n",
       "O-alpha-0               0.000000                  0.812486    0.555556   \n",
       "O-im-0                  0.780093                  0.780093    0.666667   \n",
       "O-im-0.2                0.897968                  0.897968    0.714286   \n",
       "O-im-0.5                1.000000                  1.000000    0.777778   \n",
       "\n",
       "           generalization  \n",
       "A-alpha-0        0.992186  \n",
       "A-im-0           0.923102  \n",
       "A-im-0.2         0.923466  \n",
       "A-im-0.5         0.901125  \n",
       "W-alpha-0        0.988321  \n",
       "W-im-0           0.982717  \n",
       "W-im-0.2         0.990756  \n",
       "W-im-0.5         0.942955  \n",
       "O-alpha-0        0.990546  \n",
       "O-im-0           0.988802  \n",
       "O-im-0.2         0.990742  \n",
       "O-im-0.5         0.990546  "
      ]
     },
     "execution_count": 13,
     "metadata": {},
     "output_type": "execute_result"
    }
   ],
   "source": [
    "df_stats_2c = pd.DataFrame(result_2c, index=index_2c)\n",
    "df_stats_2c"
   ]
  },
  {
   "cell_type": "markdown",
   "metadata": {
    "pycharm": {
     "name": "#%% md\n"
    }
   },
   "source": []
  },
  {
   "cell_type": "markdown",
   "metadata": {
    "pycharm": {
     "name": "#%% md\n"
    }
   },
   "source": [
    "<font size=\"6\">2e</font>"
   ]
  },
  {
   "cell_type": "code",
   "execution_count": 40,
   "metadata": {
    "pycharm": {
     "name": "#%%\n"
    }
   },
   "outputs": [],
   "source": [
    "net_2d_A, initial_marking_2d_A, final_marking_2d_A = pm4py.read_pnml('./pnml/2c-O-im-0.2.pnml')"
   ]
  },
  {
   "cell_type": "code",
   "execution_count": 42,
   "metadata": {
    "pycharm": {
     "name": "#%%\n"
    }
   },
   "outputs": [
    {
     "data": {
      "application/vnd.jupyter.widget-view+json": {
       "model_id": "f69c614ad4674950b625139a35458620",
       "version_major": 2,
       "version_minor": 0
      },
      "text/plain": [
       "aligning log, completed variants ::   0%|          | 0/12 [00:00<?, ?it/s]"
      ]
     },
     "metadata": {},
     "output_type": "display_data"
    },
    {
     "name": "stdout",
     "output_type": "stream",
     "text": [
      "O_Create Offer -> O_Created -> >> -> >> -> O_Cancelled -> "
     ]
    },
    {
     "data": {
      "application/vnd.jupyter.widget-view+json": {
       "model_id": "5b7021e2f4ed4e08a642acbf0a48065d",
       "version_major": 2,
       "version_minor": 0
      },
      "text/plain": [
       "computing precision with alignments, completed variants ::   0%|          | 0/58 [00:00<?, ?it/s]"
      ]
     },
     "metadata": {},
     "output_type": "display_data"
    }
   ],
   "source": [
    "try:\n",
    "    aligned_traces_IM = alignments.apply_log(L_Os, net_2d_A, initial_marking_2d_A, final_marking_2d_A)\n",
    "    for alignment in aligned_traces_IM:\n",
    "        if alignment['cost'] >= 10000:\n",
    "            for e in alignment['alignment']:\n",
    "                print(f'{e[0]} ->', end=\" \")\n",
    "            break\n",
    "    fitness_alignment_IM = replay_fitness.evaluate(aligned_traces_IM, variant=replay_fitness.Variants.ALIGNMENT_BASED)\n",
    "    precision_alignment_IM = precision_evaluator.apply(L_A, net_2d_A, initial_marking_2d_A, final_marking_2d_A,\n",
    "                                                       variant=precision_evaluator.Variants.ALIGN_ETCONFORMANCE)\n",
    "except:\n",
    "    fitness_alignment_IM = {'percFitTraces': 0, 'averageFitness': 0, 'percentage_of_fitting_traces': 0, 'average_trace_fitness': 0}\n",
    "    precision_alignment_IM = 0"
   ]
  },
  {
   "cell_type": "markdown",
   "metadata": {
    "pycharm": {
     "name": "#%% md\n"
    }
   },
   "source": [
    "<font size=\"6\">2f</font>"
   ]
  },
  {
   "cell_type": "code",
   "execution_count": 2,
   "metadata": {},
   "outputs": [
    {
     "data": {
      "application/vnd.jupyter.widget-view+json": {
       "model_id": "37706fc9fa9145eabaf70b012fc6f7b4",
       "version_major": 2,
       "version_minor": 0
      },
      "text/plain": [
       "parsing log, completed traces ::   0%|          | 0/28976 [00:00<?, ?it/s]"
      ]
     },
     "metadata": {},
     "output_type": "display_data"
    }
   ],
   "source": [
    "# Import filtered log\n",
    "from pm4py.objects.log.obj import EventLog, Trace, Event\n",
    "log_filtered = pm4py.read_xes(\"loanApplicationsFiltered.xes.gz\")\n"
   ]
  },
  {
   "cell_type": "code",
   "execution_count": 8,
   "metadata": {
    "pycharm": {
     "name": "#%%\n"
    }
   },
   "outputs": [
    {
     "name": "stdout",
     "output_type": "stream",
     "text": [
      "['LoanGoal', 'variant', 'creator', 'RequestedAmount', 'variant-index', 'ApplicationType']\n",
      "28976\n",
      "28976\n"
     ]
    },
    {
     "data": {
      "application/vnd.jupyter.widget-view+json": {
       "model_id": "82c301352dab45c0b1ecde4fd714f952",
       "version_major": 2,
       "version_minor": 0
      },
      "text/plain": [
       "exporting log, completed traces ::   0%|          | 0/28976 [00:00<?, ?it/s]"
      ]
     },
     "metadata": {},
     "output_type": "display_data"
    },
    {
     "data": {
      "application/vnd.jupyter.widget-view+json": {
       "model_id": "d970a03c6fbd4aea9b9a91845ffe7a0d",
       "version_major": 2,
       "version_minor": 0
      },
      "text/plain": [
       "exporting log, completed traces ::   0%|          | 0/28976 [00:00<?, ?it/s]"
      ]
     },
     "metadata": {},
     "output_type": "display_data"
    }
   ],
   "source": [
    "# Split the filtered log\n",
    "log_prefix = EventLog()\n",
    "log_suffix = EventLog()\n",
    "trace_attributes = pm4py.get_trace_attributes(log_filtered)\n",
    "print(trace_attributes)\n",
    "for trace in log_filtered:\n",
    "    append = \"prefix\"\n",
    "    trace_prefix = Trace()\n",
    "    trace_suffix = Trace()\n",
    "    log_prefix.append(trace_prefix)\n",
    "    log_suffix.append(trace_suffix)\n",
    "    for att in trace_attributes:\n",
    "        trace_prefix.attributes.update({att: trace.attributes.get(att)})\n",
    "        trace_suffix.attributes.update({att: trace.attributes.get(att)})\n",
    "    for i in range(0,len(trace)):\n",
    "        if append == \"prefix\":\n",
    "            trace_prefix.append(trace[i])\n",
    "        else:\n",
    "            trace_suffix.append(trace[i])\n",
    "        if trace[i]['concept:name'] == 'A_Accepted':\n",
    "            append = \"suffix\"\n",
    "print(len(log_prefix))\n",
    "print(len(log_suffix))\n",
    "pm4py.write_xes(log_prefix, 'log_prefix.xes')\n",
    "pm4py.write_xes(log_suffix, 'log_suffix.xes')"
   ]
  },
  {
   "cell_type": "code",
   "execution_count": 9,
   "metadata": {},
   "outputs": [
    {
     "data": {
      "text/plain": [
       "{'A_Create Application': 28976,\n",
       " 'A_Submitted': 18752,\n",
       " 'W_Handle leads': 21968,\n",
       " 'A_Concept': 28976,\n",
       " 'A_Accepted': 28976,\n",
       " 'W_Complete application': 17572,\n",
       " 'W_Assess potential fraud': 52}"
      ]
     },
     "execution_count": 9,
     "metadata": {},
     "output_type": "execute_result"
    }
   ],
   "source": [
    "# Activities of log prefix\n",
    "pm4py.get_event_attribute_values(log_prefix, 'concept:name')"
   ]
  },
  {
   "cell_type": "code",
   "execution_count": 10,
   "metadata": {},
   "outputs": [
    {
     "data": {
      "text/plain": [
       "{'O_Create Offer': 39589,\n",
       " 'O_Created': 39589,\n",
       " 'O_Sent (mail and online)': 36531,\n",
       " 'W_Complete application': 29013,\n",
       " 'A_Complete': 28839,\n",
       " 'W_Call after offers': 32113,\n",
       " 'A_Validating': 35753,\n",
       " 'O_Returned': 21452,\n",
       " 'W_Validate application': 50499,\n",
       " 'A_Incomplete': 21232,\n",
       " 'W_Call incomplete files': 23818,\n",
       " 'O_Accepted': 15912,\n",
       " 'A_Pending': 15912,\n",
       " 'A_Denied': 3440,\n",
       " 'O_Refused': 4307,\n",
       " 'O_Cancelled': 19370,\n",
       " 'A_Cancelled': 9625,\n",
       " 'O_Sent (online only)': 1862,\n",
       " 'W_Assess potential fraud': 510}"
      ]
     },
     "execution_count": 10,
     "metadata": {},
     "output_type": "execute_result"
    }
   ],
   "source": [
    "# Activities of log suffix\n",
    "pm4py.get_event_attribute_values(log_suffix, 'concept:name')"
   ]
  },
  {
   "cell_type": "code",
   "execution_count": 46,
   "metadata": {},
   "outputs": [],
   "source": [
    "# Petri net creation\n",
    "from pm4py.objects.petri_net.obj import PetriNet, Marking\n",
    "Place = PetriNet.Place\n",
    "Transition = PetriNet.Transition\n",
    "net = PetriNet(\"M_hand\")"
   ]
  },
  {
   "cell_type": "code",
   "execution_count": 47,
   "metadata": {},
   "outputs": [],
   "source": [
    "# Creating places\n",
    "places = dict()\n",
    "places[\"source\"] = Place(\"source\")\n",
    "places[\"sink\"] = Place(\"sink\")\n",
    "net.places.add(places[\"source\"])\n",
    "net.places.add(places[\"sink\"])\n",
    "for i in range(1, 45):\n",
    "    if i not in {37, 42}:\n",
    "        places[f\"p{i}\"] = Place(f\"p{i}\")\n",
    "        net.places.add(places[f\"p{i}\"])\n",
    "places[\"p21a\"] = Place(\"p21a\")\n",
    "net.places.add(places[\"p21a\"])\n",
    "for i in range(16, 23):\n",
    "    places[f\"p{i}m\"] = Place(f\"p{i}m\")\n",
    "    net.places.add(places[f\"p{i}m\"])"
   ]
  },
  {
   "cell_type": "code",
   "execution_count": 48,
   "metadata": {},
   "outputs": [],
   "source": [
    "# Creating transitions\n",
    "transitions = dict()\n",
    "transitions[\"t1\"] = Transition(\"t1\", \"A_Create Application\")\n",
    "transitions[\"t2\"] = Transition(\"t2\", \"A_Submitted\")\n",
    "transitions[\"t3\"] = Transition(\"t3\", None)\n",
    "transitions[\"t4\"] = Transition(\"t4\", \"W_Handle leads\")\n",
    "transitions[\"t5\"] = Transition(\"t5\", None)\n",
    "transitions[\"t5a\"] = Transition(\"t5a\", None)\n",
    "transitions[\"t6\"] = Transition(\"t6\", \"W_Assess potential fraud\")\n",
    "transitions[\"t7\"] = Transition(\"t7\", None)\n",
    "transitions[\"t8\"] = Transition(\"t8\", None)\n",
    "transitions[\"t9\"] = Transition(\"t9\", None)\n",
    "transitions[\"t10\"] = Transition(\"t10\", \"W_Complete application\")\n",
    "transitions[\"t11\"] = Transition(\"t11\", \"A_Concept\")\n",
    "transitions[\"t12\"] = Transition(\"t12\", None)\n",
    "transitions[\"t13\"] = Transition(\"t13\", \"A_Accepted\")\n",
    "transitions[\"t14\"] = Transition(\"t14\", None)\n",
    "transitions[\"t15\"] = Transition(\"t15\", \"O_Create Offer\")\n",
    "transitions[\"t16\"] = Transition(\"t16\", \"O_Created\")\n",
    "transitions[\"t17\"] = Transition(\"t17\", \"O_Sent (online only)\")\n",
    "transitions[\"t18\"] = Transition(\"t18\", \"O_Sent (mail and online)\")\n",
    "transitions[\"t19\"] = Transition(\"t19\", None)\n",
    "transitions[\"t20\"] = Transition(\"t20\", None)\n",
    "transitions[\"t20a\"] = Transition(\"t20a\", None)\n",
    "transitions[\"t21\"] = Transition(\"t21\", \"W_Complete application\")\n",
    "transitions[\"t22\"] = Transition(\"t22\", \"A_Complete\")\n",
    "transitions[\"t22a\"] = Transition(\"t22a\", None)\n",
    "transitions[\"t23\"] = Transition(\"t23\", \"W_Call after offers\")\n",
    "transitions[\"t24\"] = Transition(\"t24\", None)\n",
    "transitions[\"t25\"] = Transition(\"t25\", None)\n",
    "transitions[\"t25a\"] = Transition(\"t25a\", None)\n",
    "transitions[\"t25b\"] = Transition(\"t25b\", None)\n",
    "transitions[\"t26\"] = Transition(\"t26\", None)\n",
    "transitions[\"t27\"] = Transition(\"t27\", None)\n",
    "transitions[\"t28\"] = Transition(\"t28\", None)\n",
    "transitions[\"t29\"] = Transition(\"t29\", \"A_Validating\")\n",
    "transitions[\"t30\"] = Transition(\"t30\", \"W_Validate application\")\n",
    "transitions[\"t31\"] = Transition(\"t31\", \"O_Returned\")\n",
    "transitions[\"t32\"] = Transition(\"t32\", None)\n",
    "transitions[\"t33\"] = Transition(\"t33\", None)\n",
    "transitions[\"t34\"] = Transition(\"t34\", None)\n",
    "transitions[\"t35\"] = Transition(\"t35\", None)\n",
    "transitions[\"t36\"] = Transition(\"t36\", None)\n",
    "transitions[\"t37\"] = Transition(\"t37\", \"O_Cancelled\")\n",
    "transitions[\"t38\"] = Transition(\"t38\", \"A_Cancelled\")\n",
    "transitions[\"t39\"] = Transition(\"t39\", None)\n",
    "transitions[\"t40\"] = Transition(\"t40\", \"A_Incomplete\")\n",
    "transitions[\"t41\"] = Transition(\"t41\", \"W_Call incomplete files\")\n",
    "transitions[\"t42\"] = Transition(\"t42\", None)\n",
    "transitions[\"t43\"] = Transition(\"t43\", None)\n",
    "transitions[\"t44\"] = Transition(\"t44\", None)\n",
    "transitions[\"t45\"] = Transition(\"t45\", \"A_Pending\")\n",
    "transitions[\"t46\"] = Transition(\"t46\", \"O_Accepted\")\n",
    "transitions[\"t47\"] = Transition(\"t47\", \"A_Denied\")\n",
    "transitions[\"t48\"] = Transition(\"t48\", \"O_Refused\")\n",
    "transitions[\"t49\"] = Transition(\"t49\", None)\n",
    "transitions[\"t50\"] = Transition(\"t50\", None)\n",
    "transitions[\"t52\"] = Transition(\"t52\", \"W_Call after offers\")\n",
    "transitions[\"t53\"] = Transition(\"t53\", None)\n",
    "transitions[\"t54\"] = Transition(\"t54\", \"W_Validate application\")\n",
    "transitions[\"t55\"] = Transition(\"t55\", None)\n",
    "\n",
    "for key in transitions:\n",
    "    net.transitions.add(transitions[key])"
   ]
  },
  {
   "cell_type": "code",
   "execution_count": 49,
   "metadata": {},
   "outputs": [
    {
     "data": {
      "text/plain": [
       "(t55, None)->sink"
      ]
     },
     "execution_count": 49,
     "metadata": {},
     "output_type": "execute_result"
    }
   ],
   "source": [
    "from pm4py.objects.petri_net.utils import petri_utils\n",
    "petri_utils.add_arc_from_to(places[\"source\"], transitions[\"t1\"], net)\n",
    "petri_utils.add_arc_from_to(transitions[\"t1\"], places[\"p1\"], net)\n",
    "petri_utils.add_arc_from_to(places[\"p1\"], transitions[\"t2\"], net)\n",
    "petri_utils.add_arc_from_to(places[\"p1\"], transitions[\"t3\"], net)\n",
    "petri_utils.add_arc_from_to(transitions[\"t2\"], places[\"p2\"], net)\n",
    "petri_utils.add_arc_from_to(transitions[\"t3\"], places[\"p2\"], net)\n",
    "petri_utils.add_arc_from_to(places[\"p2\"], transitions[\"t5\"], net)\n",
    "petri_utils.add_arc_from_to(transitions[\"t5\"], places[\"p3\"], net)\n",
    "petri_utils.add_arc_from_to(places[\"p3\"], transitions[\"t4\"], net)\n",
    "petri_utils.add_arc_from_to(places[\"p3\"], transitions[\"t5a\"], net)\n",
    "petri_utils.add_arc_from_to(transitions[\"t5a\"], places[\"p2\"], net)\n",
    "petri_utils.add_arc_from_to(transitions[\"t4\"], places[\"p2\"], net)\n",
    "petri_utils.add_arc_from_to(places[\"p3\"], transitions[\"t7\"], net)\n",
    "petri_utils.add_arc_from_to(transitions[\"t7\"], places[\"p4\"], net)\n",
    "petri_utils.add_arc_from_to(places[\"p4\"], transitions[\"t6\"], net)\n",
    "petri_utils.add_arc_from_to(transitions[\"t6\"], places[\"p3\"], net)\n",
    "petri_utils.add_arc_from_to(places[\"p2\"], transitions[\"t8\"], net)\n",
    "petri_utils.add_arc_from_to(transitions[\"t8\"], places[\"p5\"], net)\n",
    "petri_utils.add_arc_from_to(transitions[\"t8\"], places[\"p6\"], net)\n",
    "petri_utils.add_arc_from_to(places[\"p5\"], transitions[\"t9\"], net)\n",
    "petri_utils.add_arc_from_to(places[\"p5\"], transitions[\"t10\"], net)\n",
    "petri_utils.add_arc_from_to(places[\"p6\"], transitions[\"t11\"], net)\n",
    "petri_utils.add_arc_from_to(transitions[\"t9\"], places[\"p7\"], net)\n",
    "petri_utils.add_arc_from_to(transitions[\"t10\"], places[\"p7\"], net)\n",
    "petri_utils.add_arc_from_to(transitions[\"t11\"], places[\"p8\"], net)\n",
    "petri_utils.add_arc_from_to(places[\"p7\"], transitions[\"t12\"], net)\n",
    "petri_utils.add_arc_from_to(places[\"p8\"], transitions[\"t12\"], net)\n",
    "petri_utils.add_arc_from_to(transitions[\"t12\"], places[\"p9\"], net)\n",
    "petri_utils.add_arc_from_to(places[\"p9\"], transitions[\"t13\"], net)\n",
    "petri_utils.add_arc_from_to(transitions[\"t13\"], places[\"p10\"], net)\n",
    "\n",
    "petri_utils.add_arc_from_to(places[\"p10\"], transitions[\"t14\"], net)\n",
    "petri_utils.add_arc_from_to(transitions[\"t14\"], places[\"p11\"], net)\n",
    "petri_utils.add_arc_from_to(places[\"p11\"], transitions[\"t15\"], net)\n",
    "petri_utils.add_arc_from_to(transitions[\"t15\"], places[\"p12\"], net)\n",
    "petri_utils.add_arc_from_to(places[\"p12\"], transitions[\"t16\"], net)\n",
    "petri_utils.add_arc_from_to(transitions[\"t16\"], places[\"p13\"], net)\n",
    "petri_utils.add_arc_from_to(places[\"p13\"], transitions[\"t17\"], net)\n",
    "petri_utils.add_arc_from_to(places[\"p13\"], transitions[\"t18\"], net)\n",
    "petri_utils.add_arc_from_to(transitions[\"t17\"], places[\"p14\"], net)\n",
    "petri_utils.add_arc_from_to(transitions[\"t18\"], places[\"p14\"], net)\n",
    "petri_utils.add_arc_from_to(places[\"p14\"], transitions[\"t20\"], net)\n",
    "petri_utils.add_arc_from_to(places[\"p14\"], transitions[\"t19\"], net)\n",
    "petri_utils.add_arc_from_to(places[\"p14\"], transitions[\"t20a\"], net)\n",
    "petri_utils.add_arc_from_to(transitions[\"t20a\"], places[\"p17m\"], net)\n",
    "petri_utils.add_arc_from_to(transitions[\"t14\"], places[\"p16m\"], net)\n",
    "petri_utils.add_arc_from_to(places[\"p16m\"], transitions[\"t21\"], net)\n",
    "petri_utils.add_arc_from_to(places[\"p17m\"], transitions[\"t21\"], net)\n",
    "petri_utils.add_arc_from_to(transitions[\"t21\"], places[\"p18m\"], net)\n",
    "petri_utils.add_arc_from_to(places[\"p18m\"], transitions[\"t22\"], net)\n",
    "petri_utils.add_arc_from_to(places[\"p18m\"], transitions[\"t22a\"], net)\n",
    "petri_utils.add_arc_from_to(transitions[\"t22\"], places[\"p19m\"], net)\n",
    "petri_utils.add_arc_from_to(transitions[\"t22a\"], places[\"p19m\"], net)\n",
    "petri_utils.add_arc_from_to(places[\"p19m\"], transitions[\"t24\"], net)\n",
    "petri_utils.add_arc_from_to(transitions[\"t24\"], places[\"p20m\"], net)\n",
    "petri_utils.add_arc_from_to(places[\"p20m\"], transitions[\"t23\"], net)\n",
    "petri_utils.add_arc_from_to(transitions[\"t23\"], places[\"p19m\"], net)\n",
    "petri_utils.add_arc_from_to(places[\"p20m\"], transitions[\"t25\"], net)\n",
    "petri_utils.add_arc_from_to(transitions[\"t25\"], places[\"p21m\"], net)\n",
    "petri_utils.add_arc_from_to(places[\"p21m\"], transitions[\"t25b\"], net)\n",
    "petri_utils.add_arc_from_to(transitions[\"t19\"], places[\"p15\"], net)\n",
    "petri_utils.add_arc_from_to(places[\"p21m\"], transitions[\"t25a\"], net)\n",
    "petri_utils.add_arc_from_to(places[\"p22m\"], transitions[\"t19\"], net)\n",
    "petri_utils.add_arc_from_to(transitions[\"t25a\"], places[\"p11\"], net)\n",
    "petri_utils.add_arc_from_to(transitions[\"t25b\"], places[\"p15\"], net)\n",
    "petri_utils.add_arc_from_to(transitions[\"t25a\"], places[\"p22m\"], net)\n",
    "petri_utils.add_arc_from_to(transitions[\"t20\"], places[\"p11\"], net)\n",
    "\n",
    "petri_utils.add_arc_from_to(places[\"p15\"], transitions[\"t26\"], net)\n",
    "petri_utils.add_arc_from_to(transitions[\"t26\"], places[\"p16\"], net)\n",
    "petri_utils.add_arc_from_to(transitions[\"t26\"], places[\"p17\"], net)\n",
    "petri_utils.add_arc_from_to(places[\"p17\"], transitions[\"t28\"], net)\n",
    "petri_utils.add_arc_from_to(transitions[\"t28\"], places[\"p20\"], net)\n",
    "petri_utils.add_arc_from_to(places[\"p20\"], transitions[\"t31\"], net)\n",
    "petri_utils.add_arc_from_to(places[\"p20\"], transitions[\"t32\"], net)\n",
    "petri_utils.add_arc_from_to(transitions[\"t31\"], places[\"p24\"], net)\n",
    "petri_utils.add_arc_from_to(transitions[\"t32\"], places[\"p24\"], net)\n",
    "petri_utils.add_arc_from_to(places[\"p24\"], transitions[\"t35\"], net)\n",
    "petri_utils.add_arc_from_to(transitions[\"t35\"], places[\"p25\"], net)\n",
    "petri_utils.add_arc_from_to(places[\"p25\"], transitions[\"t34\"], net)\n",
    "petri_utils.add_arc_from_to(transitions[\"t26\"], places[\"p23\"], net)\n",
    "petri_utils.add_arc_from_to(places[\"p16\"], transitions[\"t27\"], net)\n",
    "petri_utils.add_arc_from_to(transitions[\"t27\"], places[\"p18\"], net)\n",
    "petri_utils.add_arc_from_to(transitions[\"t27\"], places[\"p19\"], net)\n",
    "petri_utils.add_arc_from_to(places[\"p18\"], transitions[\"t29\"], net)\n",
    "petri_utils.add_arc_from_to(places[\"p19\"], transitions[\"t30\"], net)\n",
    "petri_utils.add_arc_from_to(transitions[\"t29\"], places[\"p21\"], net)\n",
    "petri_utils.add_arc_from_to(transitions[\"t30\"], places[\"p22\"], net)\n",
    "petri_utils.add_arc_from_to(places[\"p21\"], transitions[\"t34\"], net)\n",
    "petri_utils.add_arc_from_to(places[\"p22\"], transitions[\"t34\"], net)\n",
    "petri_utils.add_arc_from_to(places[\"p23\"], transitions[\"t34\"], net)\n",
    "petri_utils.add_arc_from_to(places[\"p21\"], transitions[\"t33\"], net)\n",
    "petri_utils.add_arc_from_to(places[\"p22\"], transitions[\"t33\"], net)\n",
    "petri_utils.add_arc_from_to(places[\"p21a\"], transitions[\"t33\"], net)\n",
    "petri_utils.add_arc_from_to(transitions[\"t33\"], places[\"p26\"], net)\n",
    "petri_utils.add_arc_from_to(transitions[\"t34\"], places[\"p26\"], net)\n",
    "petri_utils.add_arc_from_to(places[\"p26\"], transitions[\"t36\"], net)\n",
    "petri_utils.add_arc_from_to(transitions[\"t36\"], places[\"p27\"], net)\n",
    "petri_utils.add_arc_from_to(transitions[\"t36\"], places[\"p28\"], net)\n",
    "petri_utils.add_arc_from_to(places[\"p27\"], transitions[\"t37\"], net)\n",
    "petri_utils.add_arc_from_to(places[\"p28\"], transitions[\"t38\"], net)\n",
    "petri_utils.add_arc_from_to(transitions[\"t37\"], places[\"p29\"], net)\n",
    "petri_utils.add_arc_from_to(transitions[\"t38\"], places[\"p30\"], net)\n",
    "petri_utils.add_arc_from_to(places[\"p29\"], transitions[\"t39\"], net)\n",
    "petri_utils.add_arc_from_to(places[\"p30\"], transitions[\"t39\"], net)\n",
    "petri_utils.add_arc_from_to(transitions[\"t39\"], places[\"sink\"], net)\n",
    "petri_utils.add_arc_from_to(places[\"p26\"], transitions[\"t40\"], net)\n",
    "petri_utils.add_arc_from_to(transitions[\"t40\"], places[\"p31\"], net)\n",
    "petri_utils.add_arc_from_to(places[\"p31\"], transitions[\"t41\"], net)\n",
    "petri_utils.add_arc_from_to(transitions[\"t41\"], places[\"p21a\"], net)\n",
    "petri_utils.add_arc_from_to(transitions[\"t41\"], places[\"p16\"], net)\n",
    "petri_utils.add_arc_from_to(places[\"p26\"], transitions[\"t42\"], net)\n",
    "petri_utils.add_arc_from_to(transitions[\"t42\"], places[\"p32\"], net)\n",
    "petri_utils.add_arc_from_to(places[\"p32\"], transitions[\"t43\"], net)\n",
    "petri_utils.add_arc_from_to(places[\"p32\"], transitions[\"t44\"], net)\n",
    "petri_utils.add_arc_from_to(transitions[\"t43\"], places[\"p33\"], net)\n",
    "petri_utils.add_arc_from_to(transitions[\"t43\"], places[\"p34\"], net)\n",
    "petri_utils.add_arc_from_to(transitions[\"t44\"], places[\"p38\"], net)\n",
    "petri_utils.add_arc_from_to(transitions[\"t44\"], places[\"p39\"], net)\n",
    "petri_utils.add_arc_from_to(places[\"p33\"], transitions[\"t45\"], net)\n",
    "petri_utils.add_arc_from_to(places[\"p34\"], transitions[\"t46\"], net)\n",
    "petri_utils.add_arc_from_to(places[\"p38\"], transitions[\"t47\"], net)\n",
    "petri_utils.add_arc_from_to(places[\"p39\"], transitions[\"t48\"], net)\n",
    "petri_utils.add_arc_from_to(transitions[\"t45\"], places[\"p35\"], net)\n",
    "petri_utils.add_arc_from_to(transitions[\"t46\"], places[\"p36\"], net)\n",
    "petri_utils.add_arc_from_to(transitions[\"t47\"], places[\"p40\"], net)\n",
    "petri_utils.add_arc_from_to(transitions[\"t48\"], places[\"p41\"], net)\n",
    "petri_utils.add_arc_from_to(places[\"p35\"], transitions[\"t49\"], net)\n",
    "petri_utils.add_arc_from_to(places[\"p36\"], transitions[\"t49\"], net)\n",
    "petri_utils.add_arc_from_to(places[\"p40\"], transitions[\"t50\"], net)\n",
    "petri_utils.add_arc_from_to(places[\"p41\"], transitions[\"t50\"], net)\n",
    "petri_utils.add_arc_from_to(transitions[\"t49\"], places[\"p43\"], net)\n",
    "petri_utils.add_arc_from_to(transitions[\"t50\"], places[\"p43\"], net)\n",
    "petri_utils.add_arc_from_to(places[\"p43\"], transitions[\"t52\"], net)\n",
    "petri_utils.add_arc_from_to(places[\"p43\"], transitions[\"t53\"], net)\n",
    "petri_utils.add_arc_from_to(places[\"p43\"], transitions[\"t54\"], net)\n",
    "petri_utils.add_arc_from_to(transitions[\"t52\"], places[\"p44\"], net)\n",
    "petri_utils.add_arc_from_to(transitions[\"t53\"], places[\"p44\"], net)\n",
    "petri_utils.add_arc_from_to(transitions[\"t54\"], places[\"p44\"], net)\n",
    "petri_utils.add_arc_from_to(places[\"p44\"], transitions[\"t55\"], net)\n",
    "petri_utils.add_arc_from_to(transitions[\"t55\"], places[\"sink\"], net)"
   ]
  },
  {
   "cell_type": "code",
   "execution_count": 50,
   "metadata": {},
   "outputs": [],
   "source": [
    "# Initial and final markings\n",
    "initial_marking = Marking()\n",
    "initial_marking[places[\"source\"]] = 1\n",
    "final_marking = Marking()\n",
    "final_marking[places[\"sink\"]] = 1"
   ]
  },
  {
   "cell_type": "code",
   "execution_count": 51,
   "metadata": {},
   "outputs": [
    {
     "data": {
      "image/png": "[encoded data removed]",
      "text/plain": [
       "<IPython.core.display.Image object>"
      ]
     },
     "metadata": {},
     "output_type": "display_data"
    }
   ],
   "source": [
    "# View and export the Petri net\n",
    "pm4py.write_pnml(net, initial_marking, final_marking, \"./pnml/M_hand.pnml\")\n",
    "pm4py.view_petri_net(net, initial_marking, final_marking)"
   ]
  },
  {
   "cell_type": "markdown",
   "metadata": {},
   "source": [
    "<font size=\"6\">2g</font>"
   ]
  },
  {
   "cell_type": "code",
   "execution_count": 10,
   "metadata": {},
   "outputs": [
    {
     "data": {
      "application/vnd.jupyter.widget-view+json": {
       "model_id": "973c1c9cac31485d8ef67617ead9c3fe",
       "version_major": 2,
       "version_minor": 0
      },
      "text/plain": [
       "aligning log, completed variants ::   0%|          | 0/5846 [00:00<?, ?it/s]"
      ]
     },
     "metadata": {},
     "output_type": "display_data"
    },
    {
     "data": {
      "application/vnd.jupyter.widget-view+json": {
       "model_id": "f0d502f76be84347b4067b834fc21979",
       "version_major": 2,
       "version_minor": 0
      },
      "text/plain": [
       "computing precision with alignments, completed variants ::   0%|          | 0/44905 [00:00<?, ?it/s]"
      ]
     },
     "metadata": {},
     "output_type": "display_data"
    },
    {
     "data": {
      "application/vnd.jupyter.widget-view+json": {
       "model_id": "da201e1f3d204935a466f1ee925c7df8",
       "version_major": 2,
       "version_minor": 0
      },
      "text/plain": [
       "replaying log with TBR, completed variants ::   0%|          | 0/5846 [00:00<?, ?it/s]"
      ]
     },
     "metadata": {},
     "output_type": "display_data"
    },
    {
     "data": {
      "application/vnd.jupyter.widget-view+json": {
       "model_id": "cb755c73b56144ce9b49408b821f9ab9",
       "version_major": 2,
       "version_minor": 0
      },
      "text/plain": [
       "replaying log with TBR, completed variants ::   0%|          | 0/44905 [00:00<?, ?it/s]"
      ]
     },
     "metadata": {},
     "output_type": "display_data"
    },
    {
     "data": {
      "application/vnd.jupyter.widget-view+json": {
       "model_id": "2a2056807c8a4bb8a092aceefa6a5bd3",
       "version_major": 2,
       "version_minor": 0
      },
      "text/plain": [
       "replaying log with TBR, completed variants ::   0%|          | 0/5846 [00:00<?, ?it/s]"
      ]
     },
     "metadata": {},
     "output_type": "display_data"
    },
    {
     "data": {
      "application/vnd.jupyter.widget-view+json": {
       "model_id": "19abe7a14be04a178d347201e8d80aa3",
       "version_major": 2,
       "version_minor": 0
      },
      "text/plain": [
       "aligning log, completed variants ::   0%|          | 0/5846 [00:00<?, ?it/s]"
      ]
     },
     "metadata": {},
     "output_type": "display_data"
    },
    {
     "data": {
      "application/vnd.jupyter.widget-view+json": {
       "model_id": "4d1251b37a7444de8e5498192f63c159",
       "version_major": 2,
       "version_minor": 0
      },
      "text/plain": [
       "computing precision with alignments, completed variants ::   0%|          | 0/44905 [00:00<?, ?it/s]"
      ]
     },
     "metadata": {},
     "output_type": "display_data"
    },
    {
     "data": {
      "application/vnd.jupyter.widget-view+json": {
       "model_id": "dcf64628279b4cc486382ef958449e57",
       "version_major": 2,
       "version_minor": 0
      },
      "text/plain": [
       "replaying log with TBR, completed variants ::   0%|          | 0/5846 [00:00<?, ?it/s]"
      ]
     },
     "metadata": {},
     "output_type": "display_data"
    },
    {
     "data": {
      "application/vnd.jupyter.widget-view+json": {
       "model_id": "183459d59c074fbc9e4805e81843f1a3",
       "version_major": 2,
       "version_minor": 0
      },
      "text/plain": [
       "replaying log with TBR, completed variants ::   0%|          | 0/44905 [00:00<?, ?it/s]"
      ]
     },
     "metadata": {},
     "output_type": "display_data"
    },
    {
     "data": {
      "application/vnd.jupyter.widget-view+json": {
       "model_id": "c3020dcb1bb9406fb7486f5f9e583bdc",
       "version_major": 2,
       "version_minor": 0
      },
      "text/plain": [
       "replaying log with TBR, completed variants ::   0%|          | 0/5846 [00:00<?, ?it/s]"
      ]
     },
     "metadata": {},
     "output_type": "display_data"
    },
    {
     "data": {
      "application/vnd.jupyter.widget-view+json": {
       "model_id": "79f312b0d0d24537a2a23ac7a2091de4",
       "version_major": 2,
       "version_minor": 0
      },
      "text/plain": [
       "aligning log, completed variants ::   0%|          | 0/5846 [00:00<?, ?it/s]"
      ]
     },
     "metadata": {},
     "output_type": "display_data"
    },
    {
     "data": {
      "application/vnd.jupyter.widget-view+json": {
       "model_id": "cdd05551d90346e8a6c4ff97de79efdf",
       "version_major": 2,
       "version_minor": 0
      },
      "text/plain": [
       "computing precision with alignments, completed variants ::   0%|          | 0/44905 [00:00<?, ?it/s]"
      ]
     },
     "metadata": {},
     "output_type": "display_data"
    },
    {
     "data": {
      "application/vnd.jupyter.widget-view+json": {
       "model_id": "c066423496c84e3fb3cb0db268d3c368",
       "version_major": 2,
       "version_minor": 0
      },
      "text/plain": [
       "replaying log with TBR, completed variants ::   0%|          | 0/5846 [00:00<?, ?it/s]"
      ]
     },
     "metadata": {},
     "output_type": "display_data"
    },
    {
     "data": {
      "application/vnd.jupyter.widget-view+json": {
       "model_id": "0e724c67e9ab45f891667f9b6caaedb7",
       "version_major": 2,
       "version_minor": 0
      },
      "text/plain": [
       "replaying log with TBR, completed variants ::   0%|          | 0/44905 [00:00<?, ?it/s]"
      ]
     },
     "metadata": {},
     "output_type": "display_data"
    },
    {
     "data": {
      "application/vnd.jupyter.widget-view+json": {
       "model_id": "30c6cd66a2b24e449c038060abc85d70",
       "version_major": 2,
       "version_minor": 0
      },
      "text/plain": [
       "replaying log with TBR, completed variants ::   0%|          | 0/5846 [00:00<?, ?it/s]"
      ]
     },
     "metadata": {},
     "output_type": "display_data"
    },
    {
     "data": {
      "application/vnd.jupyter.widget-view+json": {
       "model_id": "84a7f0a375374ad08968cc56b978dda8",
       "version_major": 2,
       "version_minor": 0
      },
      "text/plain": [
       "aligning log, completed variants ::   0%|          | 0/5846 [00:00<?, ?it/s]"
      ]
     },
     "metadata": {},
     "output_type": "display_data"
    },
    {
     "data": {
      "application/vnd.jupyter.widget-view+json": {
       "model_id": "11c5ed370b8448d0a59b42fbfbe8898c",
       "version_major": 2,
       "version_minor": 0
      },
      "text/plain": [
       "computing precision with alignments, completed variants ::   0%|          | 0/44905 [00:00<?, ?it/s]"
      ]
     },
     "metadata": {},
     "output_type": "display_data"
    },
    {
     "data": {
      "application/vnd.jupyter.widget-view+json": {
       "model_id": "09c8245129cf4bffa2d8799d3f494198",
       "version_major": 2,
       "version_minor": 0
      },
      "text/plain": [
       "replaying log with TBR, completed variants ::   0%|          | 0/5846 [00:00<?, ?it/s]"
      ]
     },
     "metadata": {},
     "output_type": "display_data"
    },
    {
     "data": {
      "application/vnd.jupyter.widget-view+json": {
       "model_id": "c4a1d4e8558b4eea83509da77b314d32",
       "version_major": 2,
       "version_minor": 0
      },
      "text/plain": [
       "replaying log with TBR, completed variants ::   0%|          | 0/44905 [00:00<?, ?it/s]"
      ]
     },
     "metadata": {},
     "output_type": "display_data"
    },
    {
     "data": {
      "application/vnd.jupyter.widget-view+json": {
       "model_id": "2b83371c795749febe84dee20520311a",
       "version_major": 2,
       "version_minor": 0
      },
      "text/plain": [
       "replaying log with TBR, completed variants ::   0%|          | 0/5846 [00:00<?, ?it/s]"
      ]
     },
     "metadata": {},
     "output_type": "display_data"
    }
   ],
   "source": [
    "algos = [('alpha', ''), ('IM', 0), ('IM', 0.2), ('IM', 0.5)]\n",
    "index_2g = []\n",
    "result_2g = dict()\n",
    "for algo, noise_threshold in algos:\n",
    "    if algo == 'alpha':\n",
    "        index_2g.append('Lf_alpha')\n",
    "        net, im, fm = pm4py.discover_petri_net_alpha(log_filtered)\n",
    "    else:\n",
    "        index_2g.append(f\"Lf_IM_{noise_threshold}\")\n",
    "        net, im, fm = pm4py.discover_petri_net_inductive(log_filtered, noise_threshold)\n",
    "    \n",
    "    pm4py.write_pnml(net, im, fm, f'./pnml/2g-Lf-{algo}-{noise_threshold}.pnml')\n",
    "    fitness_dict = fitness_and_precision_calculator(net, im, fm, log_filtered)\n",
    "    for key in fitness_dict:\n",
    "        if key in result_2g:\n",
    "            result_2g[key].append(fitness_dict[key])\n",
    "        else:\n",
    "            result_2g[key] = [fitness_dict[key]]\n",
    "                \n",
    "    simplicity, generalization = simplicity_and_generalization_calculator(net, im, fm, log_filtered)\n",
    "    if 'simplicity' in result_2g:\n",
    "        result_2g['simplicity'].append(simplicity)\n",
    "    else:\n",
    "        result_2g['simplicity'] = [simplicity]\n",
    "\n",
    "    if 'generalization' in result_2g:\n",
    "        result_2g['generalization'].append(generalization)\n",
    "    else:\n",
    "        result_2g['generalization'] = [generalization]"
   ]
  },
  {
   "cell_type": "code",
   "execution_count": 12,
   "metadata": {},
   "outputs": [
    {
     "data": {
      "text/html": [
       "<div>\n",
       "<style scoped>\n",
       "    .dataframe tbody tr th:only-of-type {\n",
       "        vertical-align: middle;\n",
       "    }\n",
       "\n",
       "    .dataframe tbody tr th {\n",
       "        vertical-align: top;\n",
       "    }\n",
       "\n",
       "    .dataframe thead th {\n",
       "        text-align: right;\n",
       "    }\n",
       "</style>\n",
       "<table border=\"1\" class=\"dataframe\">\n",
       "  <thead>\n",
       "    <tr style=\"text-align: right;\">\n",
       "      <th></th>\n",
       "      <th>perc_fit_trace (alignment)</th>\n",
       "      <th>perc_fit_trace (token replay)</th>\n",
       "      <th>average_fitness (alignment)</th>\n",
       "      <th>average_fitness (token replay)</th>\n",
       "      <th>precision (alignment)</th>\n",
       "      <th>precision (token replay)</th>\n",
       "      <th>simplicity</th>\n",
       "      <th>generalization</th>\n",
       "    </tr>\n",
       "  </thead>\n",
       "  <tbody>\n",
       "    <tr>\n",
       "      <th>Lf_alpha</th>\n",
       "      <td>0.000000</td>\n",
       "      <td>0.000000</td>\n",
       "      <td>0.522125</td>\n",
       "      <td>0.631080</td>\n",
       "      <td>0.151920</td>\n",
       "      <td>0.151920</td>\n",
       "      <td>1.000000</td>\n",
       "      <td>0.990673</td>\n",
       "    </tr>\n",
       "    <tr>\n",
       "      <th>Lf_IM_0</th>\n",
       "      <td>100.000000</td>\n",
       "      <td>100.000000</td>\n",
       "      <td>1.000000</td>\n",
       "      <td>1.000000</td>\n",
       "      <td>0.179650</td>\n",
       "      <td>0.179650</td>\n",
       "      <td>0.600000</td>\n",
       "      <td>0.964891</td>\n",
       "    </tr>\n",
       "    <tr>\n",
       "      <th>Lf_IM_0.2</th>\n",
       "      <td>99.899917</td>\n",
       "      <td>99.899917</td>\n",
       "      <td>0.999948</td>\n",
       "      <td>0.999975</td>\n",
       "      <td>0.181051</td>\n",
       "      <td>0.181051</td>\n",
       "      <td>0.600000</td>\n",
       "      <td>0.967543</td>\n",
       "    </tr>\n",
       "    <tr>\n",
       "      <th>Lf_IM_0.5</th>\n",
       "      <td>8.886665</td>\n",
       "      <td>8.886665</td>\n",
       "      <td>0.908784</td>\n",
       "      <td>0.945580</td>\n",
       "      <td>0.278482</td>\n",
       "      <td>0.278482</td>\n",
       "      <td>0.607143</td>\n",
       "      <td>0.921731</td>\n",
       "    </tr>\n",
       "  </tbody>\n",
       "</table>\n",
       "</div>"
      ],
      "text/plain": [
       "           perc_fit_trace (alignment)  perc_fit_trace (token replay)  \\\n",
       "Lf_alpha                     0.000000                       0.000000   \n",
       "Lf_IM_0                    100.000000                     100.000000   \n",
       "Lf_IM_0.2                   99.899917                      99.899917   \n",
       "Lf_IM_0.5                    8.886665                       8.886665   \n",
       "\n",
       "           average_fitness (alignment)  average_fitness (token replay)  \\\n",
       "Lf_alpha                      0.522125                        0.631080   \n",
       "Lf_IM_0                       1.000000                        1.000000   \n",
       "Lf_IM_0.2                     0.999948                        0.999975   \n",
       "Lf_IM_0.5                     0.908784                        0.945580   \n",
       "\n",
       "           precision (alignment)  precision (token replay)  simplicity  \\\n",
       "Lf_alpha                0.151920                  0.151920    1.000000   \n",
       "Lf_IM_0                 0.179650                  0.179650    0.600000   \n",
       "Lf_IM_0.2               0.181051                  0.181051    0.600000   \n",
       "Lf_IM_0.5               0.278482                  0.278482    0.607143   \n",
       "\n",
       "           generalization  \n",
       "Lf_alpha         0.990673  \n",
       "Lf_IM_0          0.964891  \n",
       "Lf_IM_0.2        0.967543  \n",
       "Lf_IM_0.5        0.921731  "
      ]
     },
     "execution_count": 12,
     "metadata": {},
     "output_type": "execute_result"
    }
   ],
   "source": [
    "df_stats_2g = pd.DataFrame(result_2g, index=index_2g)\n",
    "df_stats_2g"
   ]
  },
  {
   "cell_type": "markdown",
   "metadata": {},
   "source": [
    "<font size=\"6\">2g</font>"
   ]
  },
  {
   "cell_type": "code",
   "execution_count": 52,
   "metadata": {},
   "outputs": [
    {
     "data": {
      "image/png": "[encoded data removed]",
      "text/plain": [
       "<IPython.core.display.Image object>"
      ]
     },
     "metadata": {},
     "output_type": "display_data"
    }
   ],
   "source": [
    "# Importing M_hand and M_auto models\n",
    "net_hand, im_hand, fm_hand = pm4py.read_pnml('./pnml/M_hand.pnml')\n",
    "net_auto, im_auto, fm_auto = pm4py.read_pnml('./pnml/M_auto.pnml')\n",
    "pm4py.view_petri_net(net_hand, im_hand, fm_hand)"
   ]
  },
  {
   "cell_type": "code",
   "execution_count": 53,
   "metadata": {},
   "outputs": [
    {
     "data": {
      "application/vnd.jupyter.widget-view+json": {
       "model_id": "908862a93b944f92b9216232f3bcf144",
       "version_major": 2,
       "version_minor": 0
      },
      "text/plain": [
       "aligning log, completed variants ::   0%|          | 0/5846 [00:00<?, ?it/s]"
      ]
     },
     "metadata": {},
     "output_type": "display_data"
    },
    {
     "data": {
      "application/vnd.jupyter.widget-view+json": {
       "model_id": "90f176b64c3c48ab8f9035e77c913afa",
       "version_major": 2,
       "version_minor": 0
      },
      "text/plain": [
       "computing precision with alignments, completed variants ::   0%|          | 0/44905 [00:00<?, ?it/s]"
      ]
     },
     "metadata": {},
     "output_type": "display_data"
    },
    {
     "data": {
      "application/vnd.jupyter.widget-view+json": {
       "model_id": "0bcb62b5fe6840f7a0bfafd073cdb48f",
       "version_major": 2,
       "version_minor": 0
      },
      "text/plain": [
       "replaying log with TBR, completed variants ::   0%|          | 0/5846 [00:00<?, ?it/s]"
      ]
     },
     "metadata": {},
     "output_type": "display_data"
    },
    {
     "data": {
      "application/vnd.jupyter.widget-view+json": {
       "model_id": "dd319e434a824ed99043da2936fa16ee",
       "version_major": 2,
       "version_minor": 0
      },
      "text/plain": [
       "replaying log with TBR, completed variants ::   0%|          | 0/44905 [00:00<?, ?it/s]"
      ]
     },
     "metadata": {},
     "output_type": "display_data"
    },
    {
     "data": {
      "text/plain": [
       "{'perc_fit_trace (alignment)': 5.601187189398122,\n",
       " 'perc_fit_trace (token replay)': 0.0,\n",
       " 'average_fitness (alignment)': 0.9002630670671612,\n",
       " 'average_fitness (token replay)': 0.864635992784088,\n",
       " 'precision (alignment)': 0.5913729764990645,\n",
       " 'precision (token replay)': 0.7438243462951328}"
      ]
     },
     "execution_count": 53,
     "metadata": {},
     "output_type": "execute_result"
    }
   ],
   "source": [
    "# Calculate fitness and precision\n",
    "models = ['M_hand', 'M_auto']\n",
    "cols = dict()\n",
    "stat_hand = fitness_and_precision_calculator(net_hand, im_hand, fm_hand, log_filtered)\n",
    "stat_hand"
   ]
  },
  {
   "cell_type": "code",
   "execution_count": 54,
   "metadata": {},
   "outputs": [
    {
     "data": {
      "application/vnd.jupyter.widget-view+json": {
       "model_id": "208d21d034de42c1895304aee51d8bba",
       "version_major": 2,
       "version_minor": 0
      },
      "text/plain": [
       "aligning log, completed variants ::   0%|          | 0/5846 [00:00<?, ?it/s]"
      ]
     },
     "metadata": {},
     "output_type": "display_data"
    },
    {
     "data": {
      "application/vnd.jupyter.widget-view+json": {
       "model_id": "b6ef6ba3fdc64310ba00252bb973eb41",
       "version_major": 2,
       "version_minor": 0
      },
      "text/plain": [
       "computing precision with alignments, completed variants ::   0%|          | 0/44905 [00:00<?, ?it/s]"
      ]
     },
     "metadata": {},
     "output_type": "display_data"
    },
    {
     "data": {
      "application/vnd.jupyter.widget-view+json": {
       "model_id": "5701a25283994506b95ed800bbd926bd",
       "version_major": 2,
       "version_minor": 0
      },
      "text/plain": [
       "replaying log with TBR, completed variants ::   0%|          | 0/5846 [00:00<?, ?it/s]"
      ]
     },
     "metadata": {},
     "output_type": "display_data"
    },
    {
     "data": {
      "application/vnd.jupyter.widget-view+json": {
       "model_id": "2348e23fc53a494193c4c90e0e571226",
       "version_major": 2,
       "version_minor": 0
      },
      "text/plain": [
       "replaying log with TBR, completed variants ::   0%|          | 0/44905 [00:00<?, ?it/s]"
      ]
     },
     "metadata": {},
     "output_type": "display_data"
    },
    {
     "data": {
      "text/plain": [
       "{'perc_fit_trace (alignment)': 100.0,\n",
       " 'perc_fit_trace (token replay)': 100.0,\n",
       " 'average_fitness (alignment)': 1.0,\n",
       " 'average_fitness (token replay)': 1.0,\n",
       " 'precision (alignment)': 0.17965002684812081,\n",
       " 'precision (token replay)': 0.17965002684812081}"
      ]
     },
     "execution_count": 54,
     "metadata": {},
     "output_type": "execute_result"
    }
   ],
   "source": [
    "stat_auto = fitness_and_precision_calculator(net_auto, im_auto, fm_auto, log_filtered)\n",
    "stat_auto"
   ]
  },
  {
   "cell_type": "code",
   "execution_count": 55,
   "metadata": {},
   "outputs": [
    {
     "data": {
      "text/html": [
       "<div>\n",
       "<style scoped>\n",
       "    .dataframe tbody tr th:only-of-type {\n",
       "        vertical-align: middle;\n",
       "    }\n",
       "\n",
       "    .dataframe tbody tr th {\n",
       "        vertical-align: top;\n",
       "    }\n",
       "\n",
       "    .dataframe thead th {\n",
       "        text-align: right;\n",
       "    }\n",
       "</style>\n",
       "<table border=\"1\" class=\"dataframe\">\n",
       "  <thead>\n",
       "    <tr style=\"text-align: right;\">\n",
       "      <th></th>\n",
       "      <th>perc_fit_trace (alignment)</th>\n",
       "      <th>perc_fit_trace (token replay)</th>\n",
       "      <th>average_fitness (alignment)</th>\n",
       "      <th>average_fitness (token replay)</th>\n",
       "      <th>precision (alignment)</th>\n",
       "      <th>precision (token replay)</th>\n",
       "    </tr>\n",
       "  </thead>\n",
       "  <tbody>\n",
       "    <tr>\n",
       "      <th>M_hand</th>\n",
       "      <td>5.601187</td>\n",
       "      <td>0.0</td>\n",
       "      <td>0.900263</td>\n",
       "      <td>0.864636</td>\n",
       "      <td>0.591373</td>\n",
       "      <td>0.743824</td>\n",
       "    </tr>\n",
       "    <tr>\n",
       "      <th>M_auto</th>\n",
       "      <td>100.000000</td>\n",
       "      <td>100.0</td>\n",
       "      <td>1.000000</td>\n",
       "      <td>1.000000</td>\n",
       "      <td>0.179650</td>\n",
       "      <td>0.179650</td>\n",
       "    </tr>\n",
       "  </tbody>\n",
       "</table>\n",
       "</div>"
      ],
      "text/plain": [
       "        perc_fit_trace (alignment)  perc_fit_trace (token replay)  \\\n",
       "M_hand                    5.601187                            0.0   \n",
       "M_auto                  100.000000                          100.0   \n",
       "\n",
       "        average_fitness (alignment)  average_fitness (token replay)  \\\n",
       "M_hand                     0.900263                        0.864636   \n",
       "M_auto                     1.000000                        1.000000   \n",
       "\n",
       "        precision (alignment)  precision (token replay)  \n",
       "M_hand               0.591373                  0.743824  \n",
       "M_auto               0.179650                  0.179650  "
      ]
     },
     "execution_count": 55,
     "metadata": {},
     "output_type": "execute_result"
    }
   ],
   "source": [
    "for key in stat_hand:\n",
    "    cols[key] = [stat_hand[key], stat_auto[key]]\n",
    "df_stats_2h = pd.DataFrame(cols, index=models)\n",
    "df_stats_2h"
   ]
  },
  {
   "cell_type": "code",
   "execution_count": null,
   "metadata": {},
   "outputs": [],
   "source": []
  }
 ],
 "metadata": {
  "kernelspec": {
   "display_name": "Python 3 (ipykernel)",
   "language": "python",
   "name": "python3"
  },
  "language_info": {
   "codemirror_mode": {
    "name": "ipython",
    "version": 3
   },
   "file_extension": ".py",
   "mimetype": "text/x-python",
   "name": "python",
   "nbconvert_exporter": "python",
   "pygments_lexer": "ipython3",
   "version": "3.8.10"
  }
 },
 "nbformat": 4,
 "nbformat_minor": 1
}
