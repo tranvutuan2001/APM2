{
 "cells": [
  {
   "cell_type": "code",
   "execution_count": 2,
   "metadata": {
    "pycharm": {
     "name": "#%%\n"
    }
   },
   "outputs": [],
   "source": [
    "import pandas as pd\n",
    "import numpy as np\n",
    "import pm4py"
   ]
  },
  {
   "cell_type": "markdown",
   "metadata": {},
   "source": [
    "# Question 1"
   ]
  },
  {
   "cell_type": "markdown",
   "metadata": {},
   "source": [
    " <font size=\"6\">1b</font>"
   ]
  },
  {
   "cell_type": "code",
   "execution_count": 3,
   "metadata": {},
   "outputs": [
    {
     "data": {
      "application/vnd.jupyter.widget-view+json": {
       "model_id": "721ac7b5088548cbbb520ddd0b8454d6",
       "version_major": 2,
       "version_minor": 0
      },
      "text/plain": [
       "parsing log, completed traces ::   0%|          | 0/29067 [00:00<?, ?it/s]"
      ]
     },
     "metadata": {},
     "output_type": "display_data"
    }
   ],
   "source": [
    "# Import the log\n",
    "log = pm4py.read_xes(\"loanApplications.xes.gz\")"
   ]
  },
  {
   "cell_type": "code",
   "execution_count": 8,
   "metadata": {},
   "outputs": [
    {
     "name": "stdout",
     "output_type": "stream",
     "text": [
      "Ratio of sucessful applications: 54.74249148518939%\n"
     ]
    }
   ],
   "source": [
    "num_traces = len(log) # Number of traces in the log\n",
    "# Cases of successful applications\n",
    "log_successful = pm4py.filter_event_attribute_values(log, \"concept:name\", [\"A_Pending\"], level=\"case\", retain=True)\n",
    "num_traces_successful = len(log_successful)\n",
    "print(f\"Ratio of sucessful applications: {num_traces_successful/num_traces*100}%\")"
   ]
  },
  {
   "cell_type": "code",
   "execution_count": 10,
   "metadata": {},
   "outputs": [
    {
     "name": "stdout",
     "output_type": "stream",
     "text": [
      "Ratio of unsucessful applications: 44.944438710565244%\n"
     ]
    }
   ],
   "source": [
    "# Cases of unsuccessful applications\n",
    "log_unsuccessful = pm4py.filter_event_attribute_values(log, \"concept:name\", [\"A_Denied\", \"A_Cancelled\"], level=\"case\", retain=True)\n",
    "num_traces_unsuccessful = len(log_unsuccessful)\n",
    "print(f\"Ratio of unsucessful applications: {num_traces_unsuccessful/num_traces*100}%\")"
   ]
  },
  {
   "cell_type": "code",
   "execution_count": 55,
   "metadata": {},
   "outputs": [],
   "source": [
    "# Helper function to inspect attribute values \n",
    "def inspect_attribute(log, log_successful, attribute):\n",
    "    columns = [attribute, \"num_cases\", \"successful_ratio_percentage\"]\n",
    "    data = []\n",
    "    # Get all attribute values\n",
    "    att_values = pm4py.get_trace_attribute_values(log, attribute)\n",
    "    att_values_successful = pm4py.get_trace_attribute_values(log_successful, attribute)\n",
    "    # Calculate num cases and successful ratio for each attribute value\n",
    "    for val in att_values:\n",
    "        num_traces_val = att_values[val]\n",
    "        num_traces_val_successful = att_values_successful.get(val, 0)\n",
    "        data.append([val, num_traces_val, num_traces_val_successful/num_traces_val*100])\n",
    "    # Return a result table\n",
    "    df = pd.DataFrame(columns=columns, data=data)\n",
    "    return df"
   ]
  },
  {
   "cell_type": "code",
   "execution_count": 56,
   "metadata": {},
   "outputs": [
    {
     "data": {
      "text/html": [
       "<div>\n",
       "<style scoped>\n",
       "    .dataframe tbody tr th:only-of-type {\n",
       "        vertical-align: middle;\n",
       "    }\n",
       "\n",
       "    .dataframe tbody tr th {\n",
       "        vertical-align: top;\n",
       "    }\n",
       "\n",
       "    .dataframe thead th {\n",
       "        text-align: right;\n",
       "    }\n",
       "</style>\n",
       "<table border=\"1\" class=\"dataframe\">\n",
       "  <thead>\n",
       "    <tr style=\"text-align: right;\">\n",
       "      <th></th>\n",
       "      <th>ApplicationType</th>\n",
       "      <th>num_cases</th>\n",
       "      <th>successful_ratio_percentage</th>\n",
       "    </tr>\n",
       "  </thead>\n",
       "  <tbody>\n",
       "    <tr>\n",
       "      <th>0</th>\n",
       "      <td>New credit</td>\n",
       "      <td>25939</td>\n",
       "      <td>52.511662</td>\n",
       "    </tr>\n",
       "    <tr>\n",
       "      <th>1</th>\n",
       "      <td>Limit raise</td>\n",
       "      <td>3128</td>\n",
       "      <td>73.241688</td>\n",
       "    </tr>\n",
       "  </tbody>\n",
       "</table>\n",
       "</div>"
      ],
      "text/plain": [
       "  ApplicationType  num_cases  successful_ratio_percentage\n",
       "0      New credit      25939                    52.511662\n",
       "1     Limit raise       3128                    73.241688"
      ]
     },
     "execution_count": 56,
     "metadata": {},
     "output_type": "execute_result"
    }
   ],
   "source": [
    "# Inspect ApplicationType\n",
    "inspect_attribute(log, log_successful, \"ApplicationType\")"
   ]
  },
  {
   "cell_type": "code",
   "execution_count": 57,
   "metadata": {},
   "outputs": [
    {
     "data": {
      "text/html": [
       "<div>\n",
       "<style scoped>\n",
       "    .dataframe tbody tr th:only-of-type {\n",
       "        vertical-align: middle;\n",
       "    }\n",
       "\n",
       "    .dataframe tbody tr th {\n",
       "        vertical-align: top;\n",
       "    }\n",
       "\n",
       "    .dataframe thead th {\n",
       "        text-align: right;\n",
       "    }\n",
       "</style>\n",
       "<table border=\"1\" class=\"dataframe\">\n",
       "  <thead>\n",
       "    <tr style=\"text-align: right;\">\n",
       "      <th></th>\n",
       "      <th>LoanGoal</th>\n",
       "      <th>num_cases</th>\n",
       "      <th>successful_ratio_percentage</th>\n",
       "    </tr>\n",
       "  </thead>\n",
       "  <tbody>\n",
       "    <tr>\n",
       "      <th>0</th>\n",
       "      <td>Existing loan takeover</td>\n",
       "      <td>5160</td>\n",
       "      <td>55.019380</td>\n",
       "    </tr>\n",
       "    <tr>\n",
       "      <th>1</th>\n",
       "      <td>Home improvement</td>\n",
       "      <td>7086</td>\n",
       "      <td>58.777872</td>\n",
       "    </tr>\n",
       "    <tr>\n",
       "      <th>2</th>\n",
       "      <td>Car</td>\n",
       "      <td>8569</td>\n",
       "      <td>51.184502</td>\n",
       "    </tr>\n",
       "    <tr>\n",
       "      <th>3</th>\n",
       "      <td>Other, see explanation</td>\n",
       "      <td>2763</td>\n",
       "      <td>50.922910</td>\n",
       "    </tr>\n",
       "    <tr>\n",
       "      <th>4</th>\n",
       "      <td>Remaining debt home</td>\n",
       "      <td>792</td>\n",
       "      <td>64.520202</td>\n",
       "    </tr>\n",
       "    <tr>\n",
       "      <th>5</th>\n",
       "      <td>Not speficied</td>\n",
       "      <td>989</td>\n",
       "      <td>41.051567</td>\n",
       "    </tr>\n",
       "    <tr>\n",
       "      <th>6</th>\n",
       "      <td>Unknown</td>\n",
       "      <td>2165</td>\n",
       "      <td>63.510393</td>\n",
       "    </tr>\n",
       "    <tr>\n",
       "      <th>7</th>\n",
       "      <td>Caravan / Camper</td>\n",
       "      <td>351</td>\n",
       "      <td>57.834758</td>\n",
       "    </tr>\n",
       "    <tr>\n",
       "      <th>8</th>\n",
       "      <td>Tax payments</td>\n",
       "      <td>141</td>\n",
       "      <td>48.936170</td>\n",
       "    </tr>\n",
       "    <tr>\n",
       "      <th>9</th>\n",
       "      <td>Extra spending limit</td>\n",
       "      <td>585</td>\n",
       "      <td>53.333333</td>\n",
       "    </tr>\n",
       "    <tr>\n",
       "      <th>10</th>\n",
       "      <td>Motorcycle</td>\n",
       "      <td>252</td>\n",
       "      <td>49.603175</td>\n",
       "    </tr>\n",
       "    <tr>\n",
       "      <th>11</th>\n",
       "      <td>Boat</td>\n",
       "      <td>184</td>\n",
       "      <td>57.608696</td>\n",
       "    </tr>\n",
       "    <tr>\n",
       "      <th>12</th>\n",
       "      <td>Business goal</td>\n",
       "      <td>28</td>\n",
       "      <td>28.571429</td>\n",
       "    </tr>\n",
       "    <tr>\n",
       "      <th>13</th>\n",
       "      <td>Debt restructuring</td>\n",
       "      <td>2</td>\n",
       "      <td>0.000000</td>\n",
       "    </tr>\n",
       "  </tbody>\n",
       "</table>\n",
       "</div>"
      ],
      "text/plain": [
       "                  LoanGoal  num_cases  successful_ratio_percentage\n",
       "0   Existing loan takeover       5160                    55.019380\n",
       "1         Home improvement       7086                    58.777872\n",
       "2                      Car       8569                    51.184502\n",
       "3   Other, see explanation       2763                    50.922910\n",
       "4      Remaining debt home        792                    64.520202\n",
       "5            Not speficied        989                    41.051567\n",
       "6                  Unknown       2165                    63.510393\n",
       "7         Caravan / Camper        351                    57.834758\n",
       "8             Tax payments        141                    48.936170\n",
       "9     Extra spending limit        585                    53.333333\n",
       "10              Motorcycle        252                    49.603175\n",
       "11                    Boat        184                    57.608696\n",
       "12           Business goal         28                    28.571429\n",
       "13      Debt restructuring          2                     0.000000"
      ]
     },
     "execution_count": 57,
     "metadata": {},
     "output_type": "execute_result"
    }
   ],
   "source": [
    "# Inspect LoanGoal\n",
    "inspect_attribute(log, log_successful, \"LoanGoal\")"
   ]
  },
  {
   "cell_type": "code",
   "execution_count": 64,
   "metadata": {},
   "outputs": [
    {
     "name": "stdout",
     "output_type": "stream",
     "text": [
      "The number of offers created in L is 39758.\n"
     ]
    }
   ],
   "source": [
    "# Number of offers created\n",
    "activities = pm4py.get_event_attribute_values(log, \"concept:name\")\n",
    "print(f\"The number of offers created in L is {activities['O_Create Offer']}.\")"
   ]
  },
  {
   "cell_type": "code",
   "execution_count": 69,
   "metadata": {},
   "outputs": [
    {
     "name": "stdout",
     "output_type": "stream",
     "text": [
      "7936\n",
      "The ratio of applications with more than one loan offer is 27.302439192211096%\n"
     ]
    }
   ],
   "source": [
    "# Cases where O_Create Offer happened at least twice\n",
    "log_repeated_offers = pm4py.filter_activities_rework(log, \"O_Create Offer\", 2)\n",
    "print(len(log_repeated_offers))\n",
    "print(f\"The ratio of applications with more than one loan offer is {len(log_repeated_offers)/num_traces*100}%\")"
   ]
  },
  {
   "cell_type": "code",
   "execution_count": 71,
   "metadata": {},
   "outputs": [
    {
     "name": "stdout",
     "output_type": "stream",
     "text": [
      "The number of refused offers in L is 4307.\n",
      "The ratio of refused offers is 10.833039891342624%.\n"
     ]
    }
   ],
   "source": [
    "# Refused offers\n",
    "print(f\"The number of refused offers in L is {activities['O_Refused']}.\")\n",
    "print(f\"The ratio of refused offers is {activities['O_Refused']/activities['O_Create Offer']*100}%.\")"
   ]
  },
  {
   "cell_type": "markdown",
   "metadata": {
    "pycharm": {
     "name": "#%% md\n"
    }
   },
   "source": [
    "# Question 2"
   ]
  },
  {
   "cell_type": "markdown",
   "metadata": {
    "pycharm": {
     "name": "#%% md\n"
    }
   },
   "source": [
    " <font size=\"6\">2a</font>"
   ]
  },
  {
   "cell_type": "code",
   "execution_count": 2,
   "metadata": {
    "pycharm": {
     "name": "#%%\n"
    }
   },
   "outputs": [
    {
     "data": {
      "application/vnd.jupyter.widget-view+json": {
       "model_id": "71ed633274934137bde88621ab5876b5",
       "version_major": 2,
       "version_minor": 0
      },
      "text/plain": [
       "parsing log, completed traces ::   0%|          | 0/28976 [00:00<?, ?it/s]"
      ]
     },
     "metadata": {},
     "output_type": "display_data"
    }
   ],
   "source": [
    "log_2a = pm4py.read_xes('loanApplicationsFiltered.xes.gz')"
   ]
  },
  {
   "cell_type": "code",
   "execution_count": 3,
   "metadata": {
    "pycharm": {
     "name": "#%%\n"
    }
   },
   "outputs": [],
   "source": [
    "import re\n",
    "\n",
    "activities = list(pm4py.get_event_attribute_values(log_2a, \"concept:name\").keys())\n",
    "\n",
    "\n",
    "def get_all_activities_by_types(type='A'):\n",
    "    res = []\n",
    "    regex = '^A_.*'\n",
    "    if type == 'W':\n",
    "        regex = '^W_.*'\n",
    "    elif type == 'O':\n",
    "        regex = '^O_.*'\n",
    "    for act in activities:\n",
    "        if re.match(regex, act):\n",
    "            res.append(act)\n",
    "    return res\n",
    "\n",
    "\n",
    "A_activites = get_all_activities_by_types()\n",
    "W_activites = get_all_activities_by_types('W')\n",
    "O_activites = get_all_activities_by_types('O')"
   ]
  },
  {
   "cell_type": "code",
   "execution_count": 4,
   "metadata": {
    "pycharm": {
     "name": "#%%\n"
    }
   },
   "outputs": [],
   "source": [
    "L_A = pm4py.filter_event_attribute_values(log_2a, 'concept:name', A_activites, level='event', retain=True)\n",
    "L_W = pm4py.filter_event_attribute_values(log_2a, 'concept:name', W_activites, level='event', retain=True)\n",
    "L_O = pm4py.filter_event_attribute_values(log_2a, 'concept:name', O_activites, level='event', retain=True)"
   ]
  },
  {
   "cell_type": "code",
   "execution_count": 5,
   "metadata": {
    "pycharm": {
     "name": "#%%\n"
    }
   },
   "outputs": [],
   "source": [
    "def get_basic_stats(log):\n",
    "    number_of_case = len(log)\n",
    "    variants = pm4py.get_variants_as_tuples(log)\n",
    "    number_of_variant = len(variants)\n",
    "    number_of_event = 0\n",
    "    for t in log:\n",
    "        number_of_event += len(t)\n",
    "    avg_number_of_event_per_trace = number_of_event / len(log)\n",
    "    number_of_distinct_activities = len(list(pm4py.get_event_attribute_values(log, \"concept:name\").keys()))\n",
    "    return {\n",
    "        'number_of_case': number_of_case,\n",
    "        'number_of_variant': number_of_variant,\n",
    "        'number_of_event': number_of_event,\n",
    "        'avg_number_of_event_per_trace': avg_number_of_event_per_trace,\n",
    "        'number_of_distinct_activities': number_of_distinct_activities\n",
    "    }\n"
   ]
  },
  {
   "cell_type": "code",
   "execution_count": 6,
   "metadata": {
    "pycharm": {
     "name": "#%%\n"
    }
   },
   "outputs": [
    {
     "data": {
      "text/html": [
       "<div>\n",
       "<style scoped>\n",
       "    .dataframe tbody tr th:only-of-type {\n",
       "        vertical-align: middle;\n",
       "    }\n",
       "\n",
       "    .dataframe tbody tr th {\n",
       "        vertical-align: top;\n",
       "    }\n",
       "\n",
       "    .dataframe thead th {\n",
       "        text-align: right;\n",
       "    }\n",
       "</style>\n",
       "<table border=\"1\" class=\"dataframe\">\n",
       "  <thead>\n",
       "    <tr style=\"text-align: right;\">\n",
       "      <th></th>\n",
       "      <th>number_of_case</th>\n",
       "      <th>number_of_variant</th>\n",
       "      <th>number_of_event</th>\n",
       "      <th>avg_number_of_event_per_trace</th>\n",
       "      <th>number_of_distinct_activities</th>\n",
       "    </tr>\n",
       "  </thead>\n",
       "  <tbody>\n",
       "    <tr>\n",
       "      <th>A</th>\n",
       "      <td>28976</td>\n",
       "      <td>88</td>\n",
       "      <td>220481</td>\n",
       "      <td>7.609090</td>\n",
       "      <td>10</td>\n",
       "    </tr>\n",
       "    <tr>\n",
       "      <th>W</th>\n",
       "      <td>28976</td>\n",
       "      <td>1018</td>\n",
       "      <td>175545</td>\n",
       "      <td>6.058290</td>\n",
       "      <td>6</td>\n",
       "    </tr>\n",
       "    <tr>\n",
       "      <th>O</th>\n",
       "      <td>28976</td>\n",
       "      <td>815</td>\n",
       "      <td>178612</td>\n",
       "      <td>6.164136</td>\n",
       "      <td>8</td>\n",
       "    </tr>\n",
       "  </tbody>\n",
       "</table>\n",
       "</div>"
      ],
      "text/plain": [
       "   number_of_case  number_of_variant  number_of_event  \\\n",
       "A           28976                 88           220481   \n",
       "W           28976               1018           175545   \n",
       "O           28976                815           178612   \n",
       "\n",
       "   avg_number_of_event_per_trace  number_of_distinct_activities  \n",
       "A                       7.609090                             10  \n",
       "W                       6.058290                              6  \n",
       "O                       6.164136                              8  "
      ]
     },
     "execution_count": 6,
     "metadata": {},
     "output_type": "execute_result"
    }
   ],
   "source": [
    "L_A_stats = get_basic_stats(L_A)\n",
    "L_W_stats = get_basic_stats(L_W)\n",
    "L_O_stats = get_basic_stats(L_O)\n",
    "logs_2a_stats = pd.DataFrame([L_A_stats, L_W_stats, L_O_stats], index=['A', 'W', 'O'])\n",
    "logs_2a_stats"
   ]
  },
  {
   "cell_type": "markdown",
   "metadata": {
    "pycharm": {
     "name": "#%% md\n"
    }
   },
   "source": [
    "<font size=\"6\">2b</font>"
   ]
  },
  {
   "cell_type": "code",
   "execution_count": 7,
   "metadata": {
    "pycharm": {
     "name": "#%%\n"
    }
   },
   "outputs": [
    {
     "data": {
      "application/vnd.jupyter.widget-view+json": {
       "model_id": "c92e9114ba8a42a5a9892965759b7b4f",
       "version_major": 2,
       "version_minor": 0
      },
      "text/plain": [
       "parsing log, completed traces ::   0%|          | 0/39589 [00:00<?, ?it/s]"
      ]
     },
     "metadata": {},
     "output_type": "display_data"
    }
   ],
   "source": [
    "L_Os = pm4py.read_xes('./loanOffers.xes.gz')\n"
   ]
  },
  {
   "cell_type": "code",
   "execution_count": 8,
   "metadata": {
    "pycharm": {
     "name": "#%%\n"
    }
   },
   "outputs": [
    {
     "data": {
      "application/vnd.jupyter.widget-view+json": {
       "model_id": "f2da757952594042b6c3564af1ec11c0",
       "version_major": 2,
       "version_minor": 0
      },
      "text/plain": [
       "exporting log, completed traces ::   0%|          | 0/28976 [00:00<?, ?it/s]"
      ]
     },
     "metadata": {},
     "output_type": "display_data"
    }
   ],
   "source": [
    "import os\n",
    "if not os.path.exists('./xes'):\n",
    "    os.mkdir('./xes')\n",
    "pm4py.write_xes(L_O, './xes/2aO.xes')"
   ]
  },
  {
   "cell_type": "markdown",
   "metadata": {
    "pycharm": {
     "name": "#%% md\n"
    }
   },
   "source": [
    "<font size=\"6\">2c</font>"
   ]
  },
  {
   "cell_type": "code",
   "execution_count": 10,
   "metadata": {
    "pycharm": {
     "name": "#%%\n"
    }
   },
   "outputs": [],
   "source": [
    "from pm4py.algo.conformance.alignments.petri_net import algorithm as alignments\n",
    "from pm4py.algo.conformance.tokenreplay import algorithm as token_replay\n",
    "from pm4py.algo.evaluation.replay_fitness import algorithm as replay_fitness\n",
    "from pm4py.algo.evaluation.precision import algorithm as precision_evaluator\n",
    "from pm4py.algo.evaluation.simplicity import algorithm as simplicity_evaluator\n",
    "from pm4py.algo.evaluation.generalization import algorithm as generalization_evaluator\n",
    "\n",
    "\n",
    "def fitness_and_precision_calculator(net, initial_marking, final_marking, log_to_apply):\n",
    "    try:\n",
    "        aligned_traces_IM = alignments.apply_log(log_to_apply, net, initial_marking, final_marking)\n",
    "        for alignment in aligned_traces_IM:\n",
    "            if alignment['cost'] > 10:\n",
    "                x = 3\n",
    "        fitness_alignment_IM = replay_fitness.evaluate(aligned_traces_IM, variant=replay_fitness.Variants.ALIGNMENT_BASED)\n",
    "        precision_alignment_IM = precision_evaluator.apply(log_to_apply, net, initial_marking, final_marking,\n",
    "                                                           variant=precision_evaluator.Variants.ALIGN_ETCONFORMANCE)\n",
    "    except:\n",
    "        fitness_alignment_IM = {'percFitTraces': 0, 'averageFitness': 0, 'percentage_of_fitting_traces': 0, 'average_trace_fitness': 0}\n",
    "        precision_alignment_IM = 0\n",
    "    replayed_traces_IM = token_replay.apply(log_to_apply, net, initial_marking, final_marking)\n",
    "    fitness_token_replay_IM = replay_fitness.evaluate(replayed_traces_IM, variant=replay_fitness.Variants.TOKEN_BASED)\n",
    "    precision_token_replay_IM = precision_evaluator.apply(log_to_apply, net, initial_marking, final_marking,\n",
    "                                                          variant=precision_evaluator.Variants.ETCONFORMANCE_TOKEN)\n",
    "\n",
    "    return {\n",
    "        'perc_fit_trace (alignment)': fitness_alignment_IM['percentage_of_fitting_traces'],\n",
    "        'perc_fit_trace (token replay)': fitness_token_replay_IM['percentage_of_fitting_traces'],\n",
    "        'average_fitness (alignment)': fitness_alignment_IM['average_trace_fitness'],\n",
    "        'average_fitness (token replay)': fitness_token_replay_IM['average_trace_fitness'],\n",
    "        'precision (alignment)': precision_alignment_IM,\n",
    "        'precision (token replay)': precision_token_replay_IM,\n",
    "    }\n",
    "\n",
    "\n",
    "def simplicity_and_generalization_calculator(net, initial_marking, final_marking, log_to_apply):\n",
    "    simplicity = simplicity_evaluator.apply(net)\n",
    "    generalization = generalization_evaluator.apply(log_to_apply, net, initial_marking, final_marking)\n",
    "    return simplicity, generalization"
   ]
  },
  {
   "cell_type": "code",
   "execution_count": 11,
   "metadata": {
    "pycharm": {
     "name": "#%%\n"
    }
   },
   "outputs": [
    {
     "data": {
      "application/vnd.jupyter.widget-view+json": {
       "model_id": "aa169828626f4e229031b9c355ef8a9e",
       "version_major": 2,
       "version_minor": 0
      },
      "text/plain": [
       "exporting log, completed traces ::   0%|          | 0/28976 [00:00<?, ?it/s]"
      ]
     },
     "metadata": {},
     "output_type": "display_data"
    },
    {
     "data": {
      "application/vnd.jupyter.widget-view+json": {
       "model_id": "baca79a42d9a41ab8d2523b3117f5136",
       "version_major": 2,
       "version_minor": 0
      },
      "text/plain": [
       "exporting log, completed traces ::   0%|          | 0/28976 [00:00<?, ?it/s]"
      ]
     },
     "metadata": {},
     "output_type": "display_data"
    },
    {
     "data": {
      "application/vnd.jupyter.widget-view+json": {
       "model_id": "412639af9327485ba288ee484a3f5033",
       "version_major": 2,
       "version_minor": 0
      },
      "text/plain": [
       "exporting log, completed traces ::   0%|          | 0/39589 [00:00<?, ?it/s]"
      ]
     },
     "metadata": {},
     "output_type": "display_data"
    },
    {
     "data": {
      "application/vnd.jupyter.widget-view+json": {
       "model_id": "f1d7707b130e43ba86764eb5180175ec",
       "version_major": 2,
       "version_minor": 0
      },
      "text/plain": [
       "aligning log, completed variants ::   0%|          | 0/88 [00:00<?, ?it/s]"
      ]
     },
     "metadata": {},
     "output_type": "display_data"
    },
    {
     "data": {
      "application/vnd.jupyter.widget-view+json": {
       "model_id": "bcc4d00672314393bb602d9e6fccb114",
       "version_major": 2,
       "version_minor": 0
      },
      "text/plain": [
       "computing precision with alignments, completed variants ::   0%|          | 0/58 [00:00<?, ?it/s]"
      ]
     },
     "metadata": {},
     "output_type": "display_data"
    },
    {
     "data": {
      "application/vnd.jupyter.widget-view+json": {
       "model_id": "a4f6c58fc26f4a93a515fd3b31a4e5b2",
       "version_major": 2,
       "version_minor": 0
      },
      "text/plain": [
       "replaying log with TBR, completed variants ::   0%|          | 0/88 [00:00<?, ?it/s]"
      ]
     },
     "metadata": {},
     "output_type": "display_data"
    },
    {
     "data": {
      "application/vnd.jupyter.widget-view+json": {
       "model_id": "15775b0261764cd0b4c095f2815bb007",
       "version_major": 2,
       "version_minor": 0
      },
      "text/plain": [
       "replaying log with TBR, completed variants ::   0%|          | 0/58 [00:00<?, ?it/s]"
      ]
     },
     "metadata": {},
     "output_type": "display_data"
    },
    {
     "data": {
      "application/vnd.jupyter.widget-view+json": {
       "model_id": "2b0db00b1f82423cbf0eb1b25a5be879",
       "version_major": 2,
       "version_minor": 0
      },
      "text/plain": [
       "replaying log with TBR, completed variants ::   0%|          | 0/88 [00:00<?, ?it/s]"
      ]
     },
     "metadata": {},
     "output_type": "display_data"
    },
    {
     "data": {
      "application/vnd.jupyter.widget-view+json": {
       "model_id": "9d336159daa644888d49285f40d48311",
       "version_major": 2,
       "version_minor": 0
      },
      "text/plain": [
       "aligning log, completed variants ::   0%|          | 0/88 [00:00<?, ?it/s]"
      ]
     },
     "metadata": {},
     "output_type": "display_data"
    },
    {
     "data": {
      "application/vnd.jupyter.widget-view+json": {
       "model_id": "79d3453987b049a28e0d776cf2ae4957",
       "version_major": 2,
       "version_minor": 0
      },
      "text/plain": [
       "computing precision with alignments, completed variants ::   0%|          | 0/58 [00:00<?, ?it/s]"
      ]
     },
     "metadata": {},
     "output_type": "display_data"
    },
    {
     "data": {
      "application/vnd.jupyter.widget-view+json": {
       "model_id": "5dbc68fccc5243acbf652ca38e96ae87",
       "version_major": 2,
       "version_minor": 0
      },
      "text/plain": [
       "replaying log with TBR, completed variants ::   0%|          | 0/88 [00:00<?, ?it/s]"
      ]
     },
     "metadata": {},
     "output_type": "display_data"
    },
    {
     "data": {
      "application/vnd.jupyter.widget-view+json": {
       "model_id": "7bab8b595aab48db99aa8a7d7008b5c3",
       "version_major": 2,
       "version_minor": 0
      },
      "text/plain": [
       "replaying log with TBR, completed variants ::   0%|          | 0/58 [00:00<?, ?it/s]"
      ]
     },
     "metadata": {},
     "output_type": "display_data"
    },
    {
     "data": {
      "application/vnd.jupyter.widget-view+json": {
       "model_id": "ecbd201133214d16b88d1ac7e5ac0435",
       "version_major": 2,
       "version_minor": 0
      },
      "text/plain": [
       "replaying log with TBR, completed variants ::   0%|          | 0/88 [00:00<?, ?it/s]"
      ]
     },
     "metadata": {},
     "output_type": "display_data"
    },
    {
     "data": {
      "application/vnd.jupyter.widget-view+json": {
       "model_id": "aa259779a18b404fb781e678a2feabd6",
       "version_major": 2,
       "version_minor": 0
      },
      "text/plain": [
       "aligning log, completed variants ::   0%|          | 0/88 [00:00<?, ?it/s]"
      ]
     },
     "metadata": {},
     "output_type": "display_data"
    },
    {
     "data": {
      "application/vnd.jupyter.widget-view+json": {
       "model_id": "3fc027f07df9411886122bcdd12643c8",
       "version_major": 2,
       "version_minor": 0
      },
      "text/plain": [
       "computing precision with alignments, completed variants ::   0%|          | 0/58 [00:00<?, ?it/s]"
      ]
     },
     "metadata": {},
     "output_type": "display_data"
    },
    {
     "data": {
      "application/vnd.jupyter.widget-view+json": {
       "model_id": "1d7527b0551c49d5a34350b339a91c5f",
       "version_major": 2,
       "version_minor": 0
      },
      "text/plain": [
       "replaying log with TBR, completed variants ::   0%|          | 0/88 [00:00<?, ?it/s]"
      ]
     },
     "metadata": {},
     "output_type": "display_data"
    },
    {
     "data": {
      "application/vnd.jupyter.widget-view+json": {
       "model_id": "83f4adf22f4248dd8553fbacd309469b",
       "version_major": 2,
       "version_minor": 0
      },
      "text/plain": [
       "replaying log with TBR, completed variants ::   0%|          | 0/58 [00:00<?, ?it/s]"
      ]
     },
     "metadata": {},
     "output_type": "display_data"
    },
    {
     "data": {
      "application/vnd.jupyter.widget-view+json": {
       "model_id": "16e065c720354fc593621b610d6be661",
       "version_major": 2,
       "version_minor": 0
      },
      "text/plain": [
       "replaying log with TBR, completed variants ::   0%|          | 0/88 [00:00<?, ?it/s]"
      ]
     },
     "metadata": {},
     "output_type": "display_data"
    },
    {
     "data": {
      "application/vnd.jupyter.widget-view+json": {
       "model_id": "5c9271fef2364065b477d2994a458c98",
       "version_major": 2,
       "version_minor": 0
      },
      "text/plain": [
       "aligning log, completed variants ::   0%|          | 0/88 [00:00<?, ?it/s]"
      ]
     },
     "metadata": {},
     "output_type": "display_data"
    },
    {
     "data": {
      "application/vnd.jupyter.widget-view+json": {
       "model_id": "e046292ddeab4be6bd3649bed6e033c7",
       "version_major": 2,
       "version_minor": 0
      },
      "text/plain": [
       "computing precision with alignments, completed variants ::   0%|          | 0/58 [00:00<?, ?it/s]"
      ]
     },
     "metadata": {},
     "output_type": "display_data"
    },
    {
     "data": {
      "application/vnd.jupyter.widget-view+json": {
       "model_id": "173513bfb8be479181bdae887ed3927f",
       "version_major": 2,
       "version_minor": 0
      },
      "text/plain": [
       "replaying log with TBR, completed variants ::   0%|          | 0/88 [00:00<?, ?it/s]"
      ]
     },
     "metadata": {},
     "output_type": "display_data"
    },
    {
     "data": {
      "application/vnd.jupyter.widget-view+json": {
       "model_id": "cdc645aa520f44a0bcb3935ea42e5127",
       "version_major": 2,
       "version_minor": 0
      },
      "text/plain": [
       "replaying log with TBR, completed variants ::   0%|          | 0/58 [00:00<?, ?it/s]"
      ]
     },
     "metadata": {},
     "output_type": "display_data"
    },
    {
     "data": {
      "application/vnd.jupyter.widget-view+json": {
       "model_id": "95ba6acc2c884080990d1a81264df56d",
       "version_major": 2,
       "version_minor": 0
      },
      "text/plain": [
       "replaying log with TBR, completed variants ::   0%|          | 0/88 [00:00<?, ?it/s]"
      ]
     },
     "metadata": {},
     "output_type": "display_data"
    },
    {
     "data": {
      "application/vnd.jupyter.widget-view+json": {
       "model_id": "a2b2b874eaa841a0b11fd07cc67019a1",
       "version_major": 2,
       "version_minor": 0
      },
      "text/plain": [
       "aligning log, completed variants ::   0%|          | 0/1018 [00:00<?, ?it/s]"
      ]
     },
     "metadata": {},
     "output_type": "display_data"
    },
    {
     "data": {
      "application/vnd.jupyter.widget-view+json": {
       "model_id": "de1dce2098554dfd9f1be2d83acacbb3",
       "version_major": 2,
       "version_minor": 0
      },
      "text/plain": [
       "computing precision with alignments, completed variants ::   0%|          | 0/1534 [00:00<?, ?it/s]"
      ]
     },
     "metadata": {},
     "output_type": "display_data"
    },
    {
     "data": {
      "application/vnd.jupyter.widget-view+json": {
       "model_id": "fc5f99bd6290430f8cdd00ed614e3a21",
       "version_major": 2,
       "version_minor": 0
      },
      "text/plain": [
       "replaying log with TBR, completed variants ::   0%|          | 0/1018 [00:00<?, ?it/s]"
      ]
     },
     "metadata": {},
     "output_type": "display_data"
    },
    {
     "data": {
      "application/vnd.jupyter.widget-view+json": {
       "model_id": "afa1a03065754f85884ef195bbfad6f2",
       "version_major": 2,
       "version_minor": 0
      },
      "text/plain": [
       "replaying log with TBR, completed variants ::   0%|          | 0/1534 [00:00<?, ?it/s]"
      ]
     },
     "metadata": {},
     "output_type": "display_data"
    },
    {
     "data": {
      "application/vnd.jupyter.widget-view+json": {
       "model_id": "03f79dfc1ff4404087eca3496bdb594c",
       "version_major": 2,
       "version_minor": 0
      },
      "text/plain": [
       "replaying log with TBR, completed variants ::   0%|          | 0/1018 [00:00<?, ?it/s]"
      ]
     },
     "metadata": {},
     "output_type": "display_data"
    },
    {
     "data": {
      "application/vnd.jupyter.widget-view+json": {
       "model_id": "7e1195af5d5e40b6895f6f177563857f",
       "version_major": 2,
       "version_minor": 0
      },
      "text/plain": [
       "aligning log, completed variants ::   0%|          | 0/1018 [00:00<?, ?it/s]"
      ]
     },
     "metadata": {},
     "output_type": "display_data"
    },
    {
     "data": {
      "application/vnd.jupyter.widget-view+json": {
       "model_id": "f1ea331dd65a4b7f803f947d77e055b8",
       "version_major": 2,
       "version_minor": 0
      },
      "text/plain": [
       "computing precision with alignments, completed variants ::   0%|          | 0/1534 [00:00<?, ?it/s]"
      ]
     },
     "metadata": {},
     "output_type": "display_data"
    },
    {
     "data": {
      "application/vnd.jupyter.widget-view+json": {
       "model_id": "f587c0b2a3bf4af88c315bf266ac773a",
       "version_major": 2,
       "version_minor": 0
      },
      "text/plain": [
       "replaying log with TBR, completed variants ::   0%|          | 0/1018 [00:00<?, ?it/s]"
      ]
     },
     "metadata": {},
     "output_type": "display_data"
    },
    {
     "data": {
      "application/vnd.jupyter.widget-view+json": {
       "model_id": "703511a6f5484e42860d73af709f042d",
       "version_major": 2,
       "version_minor": 0
      },
      "text/plain": [
       "replaying log with TBR, completed variants ::   0%|          | 0/1534 [00:00<?, ?it/s]"
      ]
     },
     "metadata": {},
     "output_type": "display_data"
    },
    {
     "data": {
      "application/vnd.jupyter.widget-view+json": {
       "model_id": "176baa2401ea4d44856b72e42b304a8e",
       "version_major": 2,
       "version_minor": 0
      },
      "text/plain": [
       "replaying log with TBR, completed variants ::   0%|          | 0/1018 [00:00<?, ?it/s]"
      ]
     },
     "metadata": {},
     "output_type": "display_data"
    },
    {
     "data": {
      "application/vnd.jupyter.widget-view+json": {
       "model_id": "6f042f4a9e3246be9cce715dd187c4a7",
       "version_major": 2,
       "version_minor": 0
      },
      "text/plain": [
       "aligning log, completed variants ::   0%|          | 0/1018 [00:00<?, ?it/s]"
      ]
     },
     "metadata": {},
     "output_type": "display_data"
    },
    {
     "data": {
      "application/vnd.jupyter.widget-view+json": {
       "model_id": "3a9ee89694b64c85aa3c9ac690395720",
       "version_major": 2,
       "version_minor": 0
      },
      "text/plain": [
       "computing precision with alignments, completed variants ::   0%|          | 0/1534 [00:00<?, ?it/s]"
      ]
     },
     "metadata": {},
     "output_type": "display_data"
    },
    {
     "data": {
      "application/vnd.jupyter.widget-view+json": {
       "model_id": "984277bfb5c042c891dff7baa31ee99a",
       "version_major": 2,
       "version_minor": 0
      },
      "text/plain": [
       "replaying log with TBR, completed variants ::   0%|          | 0/1018 [00:00<?, ?it/s]"
      ]
     },
     "metadata": {},
     "output_type": "display_data"
    },
    {
     "data": {
      "application/vnd.jupyter.widget-view+json": {
       "model_id": "edcfbcc0b632441e9c8477576633741c",
       "version_major": 2,
       "version_minor": 0
      },
      "text/plain": [
       "replaying log with TBR, completed variants ::   0%|          | 0/1534 [00:00<?, ?it/s]"
      ]
     },
     "metadata": {},
     "output_type": "display_data"
    },
    {
     "data": {
      "application/vnd.jupyter.widget-view+json": {
       "model_id": "4899240fd1d64188a74f900fc873d3fe",
       "version_major": 2,
       "version_minor": 0
      },
      "text/plain": [
       "replaying log with TBR, completed variants ::   0%|          | 0/1018 [00:00<?, ?it/s]"
      ]
     },
     "metadata": {},
     "output_type": "display_data"
    },
    {
     "data": {
      "application/vnd.jupyter.widget-view+json": {
       "model_id": "aedfec4ef2f04bae82f6fb84c6ed86b8",
       "version_major": 2,
       "version_minor": 0
      },
      "text/plain": [
       "aligning log, completed variants ::   0%|          | 0/1018 [00:00<?, ?it/s]"
      ]
     },
     "metadata": {},
     "output_type": "display_data"
    },
    {
     "data": {
      "application/vnd.jupyter.widget-view+json": {
       "model_id": "af5e63b76f304b50976924128cdf2266",
       "version_major": 2,
       "version_minor": 0
      },
      "text/plain": [
       "computing precision with alignments, completed variants ::   0%|          | 0/1534 [00:00<?, ?it/s]"
      ]
     },
     "metadata": {},
     "output_type": "display_data"
    },
    {
     "data": {
      "application/vnd.jupyter.widget-view+json": {
       "model_id": "82686c250a924017b3d9d4cbddafb3e1",
       "version_major": 2,
       "version_minor": 0
      },
      "text/plain": [
       "replaying log with TBR, completed variants ::   0%|          | 0/1018 [00:00<?, ?it/s]"
      ]
     },
     "metadata": {},
     "output_type": "display_data"
    },
    {
     "data": {
      "application/vnd.jupyter.widget-view+json": {
       "model_id": "44d8ddf4dce44398be19682ecb8c0d30",
       "version_major": 2,
       "version_minor": 0
      },
      "text/plain": [
       "replaying log with TBR, completed variants ::   0%|          | 0/1534 [00:00<?, ?it/s]"
      ]
     },
     "metadata": {},
     "output_type": "display_data"
    },
    {
     "data": {
      "application/vnd.jupyter.widget-view+json": {
       "model_id": "362179854cc54a05a4789c98a075462e",
       "version_major": 2,
       "version_minor": 0
      },
      "text/plain": [
       "replaying log with TBR, completed variants ::   0%|          | 0/1018 [00:00<?, ?it/s]"
      ]
     },
     "metadata": {},
     "output_type": "display_data"
    },
    {
     "data": {
      "application/vnd.jupyter.widget-view+json": {
       "model_id": "c7093057a2ff472aabe4e4117541c0d4",
       "version_major": 2,
       "version_minor": 0
      },
      "text/plain": [
       "replaying log with TBR, completed variants ::   0%|          | 0/12 [00:00<?, ?it/s]"
      ]
     },
     "metadata": {},
     "output_type": "display_data"
    },
    {
     "data": {
      "application/vnd.jupyter.widget-view+json": {
       "model_id": "08d46213957249d2a0fc6fa5ad2f35cd",
       "version_major": 2,
       "version_minor": 0
      },
      "text/plain": [
       "replaying log with TBR, completed variants ::   0%|          | 0/6 [00:00<?, ?it/s]"
      ]
     },
     "metadata": {},
     "output_type": "display_data"
    },
    {
     "data": {
      "application/vnd.jupyter.widget-view+json": {
       "model_id": "8829b7882a434a43b95e3e94c38ff551",
       "version_major": 2,
       "version_minor": 0
      },
      "text/plain": [
       "replaying log with TBR, completed variants ::   0%|          | 0/12 [00:00<?, ?it/s]"
      ]
     },
     "metadata": {},
     "output_type": "display_data"
    },
    {
     "data": {
      "application/vnd.jupyter.widget-view+json": {
       "model_id": "979b00cf2fa941dda8d69f4b2132ba43",
       "version_major": 2,
       "version_minor": 0
      },
      "text/plain": [
       "aligning log, completed variants ::   0%|          | 0/12 [00:00<?, ?it/s]"
      ]
     },
     "metadata": {},
     "output_type": "display_data"
    },
    {
     "data": {
      "application/vnd.jupyter.widget-view+json": {
       "model_id": "6f182651d1c043ebac261db4fa1fb0fc",
       "version_major": 2,
       "version_minor": 0
      },
      "text/plain": [
       "computing precision with alignments, completed variants ::   0%|          | 0/6 [00:00<?, ?it/s]"
      ]
     },
     "metadata": {},
     "output_type": "display_data"
    },
    {
     "data": {
      "application/vnd.jupyter.widget-view+json": {
       "model_id": "469f5825808d49ad93701fc1b5dfc21d",
       "version_major": 2,
       "version_minor": 0
      },
      "text/plain": [
       "replaying log with TBR, completed variants ::   0%|          | 0/12 [00:00<?, ?it/s]"
      ]
     },
     "metadata": {},
     "output_type": "display_data"
    },
    {
     "data": {
      "application/vnd.jupyter.widget-view+json": {
       "model_id": "1ca0cd5de8ae4819beceb389045e6806",
       "version_major": 2,
       "version_minor": 0
      },
      "text/plain": [
       "replaying log with TBR, completed variants ::   0%|          | 0/6 [00:00<?, ?it/s]"
      ]
     },
     "metadata": {},
     "output_type": "display_data"
    },
    {
     "data": {
      "application/vnd.jupyter.widget-view+json": {
       "model_id": "cbf5230a9d0745b985c1363009378fa9",
       "version_major": 2,
       "version_minor": 0
      },
      "text/plain": [
       "replaying log with TBR, completed variants ::   0%|          | 0/12 [00:00<?, ?it/s]"
      ]
     },
     "metadata": {},
     "output_type": "display_data"
    },
    {
     "data": {
      "application/vnd.jupyter.widget-view+json": {
       "model_id": "8a05e179b194462a836e359a5faded69",
       "version_major": 2,
       "version_minor": 0
      },
      "text/plain": [
       "aligning log, completed variants ::   0%|          | 0/12 [00:00<?, ?it/s]"
      ]
     },
     "metadata": {},
     "output_type": "display_data"
    },
    {
     "data": {
      "application/vnd.jupyter.widget-view+json": {
       "model_id": "ebe18dcbb22443f499c4deb2a12cd2d9",
       "version_major": 2,
       "version_minor": 0
      },
      "text/plain": [
       "computing precision with alignments, completed variants ::   0%|          | 0/6 [00:00<?, ?it/s]"
      ]
     },
     "metadata": {},
     "output_type": "display_data"
    },
    {
     "data": {
      "application/vnd.jupyter.widget-view+json": {
       "model_id": "5c2fa4ca45c64835ad4c74464ceac8d9",
       "version_major": 2,
       "version_minor": 0
      },
      "text/plain": [
       "replaying log with TBR, completed variants ::   0%|          | 0/12 [00:00<?, ?it/s]"
      ]
     },
     "metadata": {},
     "output_type": "display_data"
    },
    {
     "data": {
      "application/vnd.jupyter.widget-view+json": {
       "model_id": "0fa33aae55b34c4c9d6340f731c0128b",
       "version_major": 2,
       "version_minor": 0
      },
      "text/plain": [
       "replaying log with TBR, completed variants ::   0%|          | 0/6 [00:00<?, ?it/s]"
      ]
     },
     "metadata": {},
     "output_type": "display_data"
    },
    {
     "data": {
      "application/vnd.jupyter.widget-view+json": {
       "model_id": "68e58f45769f47d2a96a864e7f612d17",
       "version_major": 2,
       "version_minor": 0
      },
      "text/plain": [
       "replaying log with TBR, completed variants ::   0%|          | 0/12 [00:00<?, ?it/s]"
      ]
     },
     "metadata": {},
     "output_type": "display_data"
    },
    {
     "data": {
      "application/vnd.jupyter.widget-view+json": {
       "model_id": "4d50b320ccc3483cb9766021d17bcc9e",
       "version_major": 2,
       "version_minor": 0
      },
      "text/plain": [
       "aligning log, completed variants ::   0%|          | 0/12 [00:00<?, ?it/s]"
      ]
     },
     "metadata": {},
     "output_type": "display_data"
    },
    {
     "data": {
      "application/vnd.jupyter.widget-view+json": {
       "model_id": "b7a0ed70b86a4c5cb608611ddc0088d4",
       "version_major": 2,
       "version_minor": 0
      },
      "text/plain": [
       "computing precision with alignments, completed variants ::   0%|          | 0/6 [00:00<?, ?it/s]"
      ]
     },
     "metadata": {},
     "output_type": "display_data"
    },
    {
     "data": {
      "application/vnd.jupyter.widget-view+json": {
       "model_id": "a533fd39352747d692fed3152091941f",
       "version_major": 2,
       "version_minor": 0
      },
      "text/plain": [
       "replaying log with TBR, completed variants ::   0%|          | 0/12 [00:00<?, ?it/s]"
      ]
     },
     "metadata": {},
     "output_type": "display_data"
    },
    {
     "data": {
      "application/vnd.jupyter.widget-view+json": {
       "model_id": "cc0010c0a1654cfaa3d1d0b3157c5e18",
       "version_major": 2,
       "version_minor": 0
      },
      "text/plain": [
       "replaying log with TBR, completed variants ::   0%|          | 0/6 [00:00<?, ?it/s]"
      ]
     },
     "metadata": {},
     "output_type": "display_data"
    },
    {
     "data": {
      "application/vnd.jupyter.widget-view+json": {
       "model_id": "5cb800924c9b4f85a223a1aa0994356d",
       "version_major": 2,
       "version_minor": 0
      },
      "text/plain": [
       "replaying log with TBR, completed variants ::   0%|          | 0/12 [00:00<?, ?it/s]"
      ]
     },
     "metadata": {},
     "output_type": "display_data"
    }
   ],
   "source": [
    "algos = ['alpha', 'im']\n",
    "noise_thresholds = [0, 0.2, 0.5]\n",
    "log_2c = [(L_A, 'A'), (L_W, 'W'), (L_Os, 'O')]\n",
    "result_2c = {}\n",
    "index_2c = []\n",
    "for log in log_2c:\n",
    "    pm4py.write_xes(log[0], f'./xes/L_{log[1]}.xes')\n",
    "for log_to_apply in log_2c:\n",
    "    for algo in algos:\n",
    "        for threshold in noise_thresholds:\n",
    "            net, initial_marking, final_marking = None, None, None\n",
    "            if algo == 'alpha' and threshold == 0:\n",
    "                net, initial_marking, final_marking = pm4py.discover_petri_net_alpha(log_to_apply[0])\n",
    "            elif algo == 'im':\n",
    "                net, initial_marking, final_marking = pm4py.discover_petri_net_inductive(log_to_apply[0], threshold)\n",
    "            else:\n",
    "                continue\n",
    "\n",
    "            pm4py.write_pnml(net, initial_marking, final_marking, f'./pnml/2c-{log_to_apply[1]}-{algo}-{threshold}.pnml')\n",
    "            index_2c.append(f'{log_to_apply[1]}-{algo}-{threshold}')\n",
    "            fitness_dict = fitness_and_precision_calculator(net, initial_marking, final_marking, log_to_apply[0])\n",
    "            for key in fitness_dict:\n",
    "                if key in result_2c:\n",
    "                    result_2c[key].append(fitness_dict[key])\n",
    "                else:\n",
    "                    result_2c[key] = [fitness_dict[key]]\n",
    "\n",
    "            simplicity, generalization = simplicity_and_generalization_calculator(net, initial_marking, final_marking, log_to_apply[0])\n",
    "            if 'simplicity' in result_2c:\n",
    "                result_2c['simplicity'].append(simplicity)\n",
    "            else:\n",
    "                result_2c['simplicity'] = [simplicity]\n",
    "\n",
    "            if 'generalization' in result_2c:\n",
    "                result_2c['generalization'].append(generalization)\n",
    "            else:\n",
    "                result_2c['generalization'] = [generalization]\n",
    "\n"
   ]
  },
  {
   "cell_type": "code",
   "execution_count": 13,
   "metadata": {
    "pycharm": {
     "name": "#%%\n"
    }
   },
   "outputs": [
    {
     "data": {
      "text/html": [
       "<div>\n",
       "<style scoped>\n",
       "    .dataframe tbody tr th:only-of-type {\n",
       "        vertical-align: middle;\n",
       "    }\n",
       "\n",
       "    .dataframe tbody tr th {\n",
       "        vertical-align: top;\n",
       "    }\n",
       "\n",
       "    .dataframe thead th {\n",
       "        text-align: right;\n",
       "    }\n",
       "</style>\n",
       "<table border=\"1\" class=\"dataframe\">\n",
       "  <thead>\n",
       "    <tr style=\"text-align: right;\">\n",
       "      <th></th>\n",
       "      <th>perc_fit_trace (alignment)</th>\n",
       "      <th>perc_fit_trace (token replay)</th>\n",
       "      <th>average_fitness (alignment)</th>\n",
       "      <th>average_fitness (token replay)</th>\n",
       "      <th>precision (alignment)</th>\n",
       "      <th>precision (token replay)</th>\n",
       "      <th>simplicity</th>\n",
       "      <th>generalization</th>\n",
       "    </tr>\n",
       "  </thead>\n",
       "  <tbody>\n",
       "    <tr>\n",
       "      <th>A-alpha-0</th>\n",
       "      <td>23.840420</td>\n",
       "      <td>23.840420</td>\n",
       "      <td>0.877945</td>\n",
       "      <td>0.872103</td>\n",
       "      <td>0.426619</td>\n",
       "      <td>0.426619</td>\n",
       "      <td>1.000000</td>\n",
       "      <td>0.992186</td>\n",
       "    </tr>\n",
       "    <tr>\n",
       "      <th>A-im-0</th>\n",
       "      <td>100.000000</td>\n",
       "      <td>100.000000</td>\n",
       "      <td>1.000000</td>\n",
       "      <td>1.000000</td>\n",
       "      <td>0.853174</td>\n",
       "      <td>0.853174</td>\n",
       "      <td>0.714286</td>\n",
       "      <td>0.923102</td>\n",
       "    </tr>\n",
       "    <tr>\n",
       "      <th>A-im-0.2</th>\n",
       "      <td>99.527195</td>\n",
       "      <td>99.527195</td>\n",
       "      <td>0.999512</td>\n",
       "      <td>0.999346</td>\n",
       "      <td>0.925764</td>\n",
       "      <td>0.925764</td>\n",
       "      <td>0.735849</td>\n",
       "      <td>0.923466</td>\n",
       "    </tr>\n",
       "    <tr>\n",
       "      <th>A-im-0.5</th>\n",
       "      <td>12.703617</td>\n",
       "      <td>12.703617</td>\n",
       "      <td>0.900150</td>\n",
       "      <td>0.879231</td>\n",
       "      <td>0.978533</td>\n",
       "      <td>0.978533</td>\n",
       "      <td>0.800000</td>\n",
       "      <td>0.901125</td>\n",
       "    </tr>\n",
       "    <tr>\n",
       "      <th>W-alpha-0</th>\n",
       "      <td>0.062120</td>\n",
       "      <td>0.062120</td>\n",
       "      <td>0.426083</td>\n",
       "      <td>0.498860</td>\n",
       "      <td>0.313408</td>\n",
       "      <td>0.313408</td>\n",
       "      <td>1.000000</td>\n",
       "      <td>0.988321</td>\n",
       "    </tr>\n",
       "    <tr>\n",
       "      <th>W-im-0</th>\n",
       "      <td>100.000000</td>\n",
       "      <td>100.000000</td>\n",
       "      <td>1.000000</td>\n",
       "      <td>1.000000</td>\n",
       "      <td>0.507620</td>\n",
       "      <td>0.507620</td>\n",
       "      <td>0.677419</td>\n",
       "      <td>0.982717</td>\n",
       "    </tr>\n",
       "    <tr>\n",
       "      <th>W-im-0.2</th>\n",
       "      <td>99.927526</td>\n",
       "      <td>99.927526</td>\n",
       "      <td>0.999929</td>\n",
       "      <td>0.999971</td>\n",
       "      <td>0.552820</td>\n",
       "      <td>0.552820</td>\n",
       "      <td>0.694915</td>\n",
       "      <td>0.990756</td>\n",
       "    </tr>\n",
       "    <tr>\n",
       "      <th>W-im-0.5</th>\n",
       "      <td>24.679045</td>\n",
       "      <td>24.679045</td>\n",
       "      <td>0.868617</td>\n",
       "      <td>0.905827</td>\n",
       "      <td>0.707679</td>\n",
       "      <td>0.707679</td>\n",
       "      <td>0.725490</td>\n",
       "      <td>0.942955</td>\n",
       "    </tr>\n",
       "    <tr>\n",
       "      <th>O-alpha-0</th>\n",
       "      <td>0.000000</td>\n",
       "      <td>0.000000</td>\n",
       "      <td>0.000000</td>\n",
       "      <td>0.904405</td>\n",
       "      <td>0.000000</td>\n",
       "      <td>0.812486</td>\n",
       "      <td>0.555556</td>\n",
       "      <td>0.990546</td>\n",
       "    </tr>\n",
       "    <tr>\n",
       "      <th>O-im-0</th>\n",
       "      <td>100.000000</td>\n",
       "      <td>100.000000</td>\n",
       "      <td>1.000000</td>\n",
       "      <td>1.000000</td>\n",
       "      <td>0.780093</td>\n",
       "      <td>0.780093</td>\n",
       "      <td>0.666667</td>\n",
       "      <td>0.988802</td>\n",
       "    </tr>\n",
       "    <tr>\n",
       "      <th>O-im-0.2</th>\n",
       "      <td>96.978959</td>\n",
       "      <td>96.978959</td>\n",
       "      <td>0.995684</td>\n",
       "      <td>0.992447</td>\n",
       "      <td>0.897968</td>\n",
       "      <td>0.897968</td>\n",
       "      <td>0.714286</td>\n",
       "      <td>0.990742</td>\n",
       "    </tr>\n",
       "    <tr>\n",
       "      <th>O-im-0.5</th>\n",
       "      <td>54.186769</td>\n",
       "      <td>54.186769</td>\n",
       "      <td>0.944901</td>\n",
       "      <td>0.906863</td>\n",
       "      <td>1.000000</td>\n",
       "      <td>1.000000</td>\n",
       "      <td>0.777778</td>\n",
       "      <td>0.990546</td>\n",
       "    </tr>\n",
       "  </tbody>\n",
       "</table>\n",
       "</div>"
      ],
      "text/plain": [
       "           perc_fit_trace (alignment)  perc_fit_trace (token replay)  \\\n",
       "A-alpha-0                   23.840420                      23.840420   \n",
       "A-im-0                     100.000000                     100.000000   \n",
       "A-im-0.2                    99.527195                      99.527195   \n",
       "A-im-0.5                    12.703617                      12.703617   \n",
       "W-alpha-0                    0.062120                       0.062120   \n",
       "W-im-0                     100.000000                     100.000000   \n",
       "W-im-0.2                    99.927526                      99.927526   \n",
       "W-im-0.5                    24.679045                      24.679045   \n",
       "O-alpha-0                    0.000000                       0.000000   \n",
       "O-im-0                     100.000000                     100.000000   \n",
       "O-im-0.2                    96.978959                      96.978959   \n",
       "O-im-0.5                    54.186769                      54.186769   \n",
       "\n",
       "           average_fitness (alignment)  average_fitness (token replay)  \\\n",
       "A-alpha-0                     0.877945                        0.872103   \n",
       "A-im-0                        1.000000                        1.000000   \n",
       "A-im-0.2                      0.999512                        0.999346   \n",
       "A-im-0.5                      0.900150                        0.879231   \n",
       "W-alpha-0                     0.426083                        0.498860   \n",
       "W-im-0                        1.000000                        1.000000   \n",
       "W-im-0.2                      0.999929                        0.999971   \n",
       "W-im-0.5                      0.868617                        0.905827   \n",
       "O-alpha-0                     0.000000                        0.904405   \n",
       "O-im-0                        1.000000                        1.000000   \n",
       "O-im-0.2                      0.995684                        0.992447   \n",
       "O-im-0.5                      0.944901                        0.906863   \n",
       "\n",
       "           precision (alignment)  precision (token replay)  simplicity  \\\n",
       "A-alpha-0               0.426619                  0.426619    1.000000   \n",
       "A-im-0                  0.853174                  0.853174    0.714286   \n",
       "A-im-0.2                0.925764                  0.925764    0.735849   \n",
       "A-im-0.5                0.978533                  0.978533    0.800000   \n",
       "W-alpha-0               0.313408                  0.313408    1.000000   \n",
       "W-im-0                  0.507620                  0.507620    0.677419   \n",
       "W-im-0.2                0.552820                  0.552820    0.694915   \n",
       "W-im-0.5                0.707679                  0.707679    0.725490   \n",
       "O-alpha-0               0.000000                  0.812486    0.555556   \n",
       "O-im-0                  0.780093                  0.780093    0.666667   \n",
       "O-im-0.2                0.897968                  0.897968    0.714286   \n",
       "O-im-0.5                1.000000                  1.000000    0.777778   \n",
       "\n",
       "           generalization  \n",
       "A-alpha-0        0.992186  \n",
       "A-im-0           0.923102  \n",
       "A-im-0.2         0.923466  \n",
       "A-im-0.5         0.901125  \n",
       "W-alpha-0        0.988321  \n",
       "W-im-0           0.982717  \n",
       "W-im-0.2         0.990756  \n",
       "W-im-0.5         0.942955  \n",
       "O-alpha-0        0.990546  \n",
       "O-im-0           0.988802  \n",
       "O-im-0.2         0.990742  \n",
       "O-im-0.5         0.990546  "
      ]
     },
     "execution_count": 13,
     "metadata": {},
     "output_type": "execute_result"
    }
   ],
   "source": [
    "df_stats_2c = pd.DataFrame(result_2c, index=index_2c)\n",
    "df_stats_2c"
   ]
  },
  {
   "cell_type": "markdown",
   "metadata": {
    "pycharm": {
     "name": "#%% md\n"
    }
   },
   "source": []
  },
  {
   "cell_type": "markdown",
   "metadata": {
    "pycharm": {
     "name": "#%% md\n"
    }
   },
   "source": [
    "<font size=\"6\">2e</font>"
   ]
  },
  {
   "cell_type": "code",
   "execution_count": 40,
   "metadata": {
    "pycharm": {
     "name": "#%%\n"
    }
   },
   "outputs": [],
   "source": [
    "net_2d_A, initial_marking_2d_A, final_marking_2d_A = pm4py.read_pnml('./pnml/2c-O-im-0.2.pnml')"
   ]
  },
  {
   "cell_type": "code",
   "execution_count": 42,
   "metadata": {
    "pycharm": {
     "name": "#%%\n"
    }
   },
   "outputs": [
    {
     "data": {
      "application/vnd.jupyter.widget-view+json": {
       "model_id": "f69c614ad4674950b625139a35458620",
       "version_major": 2,
       "version_minor": 0
      },
      "text/plain": [
       "aligning log, completed variants ::   0%|          | 0/12 [00:00<?, ?it/s]"
      ]
     },
     "metadata": {},
     "output_type": "display_data"
    },
    {
     "name": "stdout",
     "output_type": "stream",
     "text": [
      "O_Create Offer -> O_Created -> >> -> >> -> O_Cancelled -> "
     ]
    },
    {
     "data": {
      "application/vnd.jupyter.widget-view+json": {
       "model_id": "5b7021e2f4ed4e08a642acbf0a48065d",
       "version_major": 2,
       "version_minor": 0
      },
      "text/plain": [
       "computing precision with alignments, completed variants ::   0%|          | 0/58 [00:00<?, ?it/s]"
      ]
     },
     "metadata": {},
     "output_type": "display_data"
    }
   ],
   "source": [
    "try:\n",
    "    aligned_traces_IM = alignments.apply_log(L_Os, net_2d_A, initial_marking_2d_A, final_marking_2d_A)\n",
    "    for alignment in aligned_traces_IM:\n",
    "        if alignment['cost'] >= 10000:\n",
    "            for e in alignment['alignment']:\n",
    "                print(f'{e[0]} ->', end=\" \")\n",
    "            break\n",
    "    fitness_alignment_IM = replay_fitness.evaluate(aligned_traces_IM, variant=replay_fitness.Variants.ALIGNMENT_BASED)\n",
    "    precision_alignment_IM = precision_evaluator.apply(L_A, net_2d_A, initial_marking_2d_A, final_marking_2d_A,\n",
    "                                                       variant=precision_evaluator.Variants.ALIGN_ETCONFORMANCE)\n",
    "except:\n",
    "    fitness_alignment_IM = {'percFitTraces': 0, 'averageFitness': 0, 'percentage_of_fitting_traces': 0, 'average_trace_fitness': 0}\n",
    "    precision_alignment_IM = 0"
   ]
  },
  {
   "cell_type": "markdown",
   "metadata": {
    "pycharm": {
     "name": "#%% md\n"
    }
   },
   "source": [
    "<font size=\"6\">2f</font>"
   ]
  },
  {
   "cell_type": "code",
   "execution_count": 12,
   "metadata": {
    "pycharm": {
     "name": "#%%\n"
    }
   },
   "outputs": [
    {
     "data": {
      "text/plain": [
       "['A_Create Application',\n",
       " 'A_Submitted',\n",
       " 'W_Handle leads',\n",
       " 'A_Concept',\n",
       " 'A_Accepted',\n",
       " 'O_Create Offer',\n",
       " 'O_Created',\n",
       " 'O_Sent (mail and online)',\n",
       " 'W_Complete application',\n",
       " 'A_Complete',\n",
       " 'W_Call after offers',\n",
       " 'A_Validating',\n",
       " 'O_Returned',\n",
       " 'W_Validate application',\n",
       " 'A_Incomplete',\n",
       " 'W_Call incomplete files',\n",
       " 'O_Accepted',\n",
       " 'A_Pending',\n",
       " 'A_Denied',\n",
       " 'O_Refused',\n",
       " 'O_Cancelled',\n",
       " 'A_Cancelled',\n",
       " 'O_Sent (online only)',\n",
       " 'W_Assess potential fraud']"
      ]
     },
     "execution_count": 12,
     "metadata": {},
     "output_type": "execute_result"
    }
   ],
   "source": [
    "activities = list(pm4py.get_event_attribute_values(log_2a, \"concept:name\").keys())\n",
    "activities"
   ]
  },
  {
   "cell_type": "code",
   "execution_count": 11,
   "metadata": {
    "pycharm": {
     "name": "#%%\n"
    }
   },
   "outputs": [
    {
     "name": "stdout",
     "output_type": "stream",
     "text": [
      "2\n",
      "3\n",
      "4\n",
      "5\n",
      "6\n",
      "7\n",
      "8\n",
      "9\n",
      "10\n",
      "11\n",
      "12\n",
      "13\n",
      "14\n",
      "15\n",
      "16\n",
      "17\n",
      "18\n",
      "19\n",
      "20\n",
      "21\n",
      "22\n",
      "23\n",
      "24\n",
      "25\n",
      "26\n",
      "27\n",
      "28\n",
      "29\n",
      "30\n",
      "31\n",
      "32\n",
      "33\n"
     ]
    }
   ],
   "source": [
    "from pm4py.objects.petri_net.obj import PetriNet, Marking\n",
    "from pm4py.objects.petri_net.utils import petri_utils\n",
    "\n",
    "net = PetriNet(\"new_petri_net\")\n",
    "source = PetriNet.Place(\"source\")\n",
    "sink = PetriNet.Place(\"sink\")\n",
    "# add the places to the Petri Net\n",
    "net.places.add(source)\n",
    "net.places.add(sink)\n",
    "place_dict = {}\n",
    "transition_dict = {}\n",
    "for i in range(2,34):\n",
    "    place = PetriNet.Place(f'p{i}')\n",
    "    net.places.add(place)\n",
    "    place_dict[f'p{i}'] = place\n",
    "\n",
    "for a in activities:\n",
    "    t = PetriNet.Transition(a, a)\n",
    "    net.transitions.add(t)\n",
    "    transition_dict[a] = t\n",
    "\n",
    "for a in range(1,15):\n",
    "    t = PetriNet.Transition(f't{a}', None)\n",
    "    net.transitions.add(t)\n",
    "    transition_dict[a] = t\n",
    "\n",
    "\n",
    "petri_utils.add_arc_from_to(source, transition_dict['A_Create Application'], net)\n",
    "petri_utils.add_arc_from_to(transition_dict['A_Create Application'], place_dict['p2'], net)\n",
    "\n",
    "petri_utils.add_arc_from_to(place_dict['p2'], transition_dict['A_Submitted'], net)\n",
    "petri_utils.add_arc_from_to(transition_dict['A_Submitted'], place_dict['p3'], net)\n",
    "\n",
    "petri_utils.add_arc_from_to(place_dict['p2'], transition_dict['t1'], net)\n",
    "petri_utils.add_arc_from_to(transition_dict['t1'], place_dict['p4'], net)\n",
    "\n",
    "petri_utils.add_arc_from_to(place_dict['p3'], transition_dict['t2'], net)\n",
    "petri_utils.add_arc_from_to(transition_dict['t2'], place_dict['p4'], net)\n",
    "\n",
    "petri_utils.add_arc_from_to(place_dict['p3'], transition_dict['W_Handle leads'], net)\n",
    "petri_utils.add_arc_from_to(transition_dict['W_Handle leads'], place_dict['p4'], net)\n",
    "\n",
    "petri_utils.add_arc_from_to(place_dict['p3'], transition_dict['t3'], net)\n",
    "petri_utils.add_arc_from_to(transition_dict['W_Handle leads'], place_dict['p4'], net)"
   ]
  },
  {
   "cell_type": "code",
   "execution_count": null,
   "metadata": {
    "pycharm": {
     "name": "#%%\n"
    }
   },
   "outputs": [],
   "source": []
  }
 ],
 "metadata": {
  "kernelspec": {
   "display_name": "Python 3 (ipykernel)",
   "language": "python",
   "name": "python3"
  },
  "language_info": {
   "codemirror_mode": {
    "name": "ipython",
    "version": 3
   },
   "file_extension": ".py",
   "mimetype": "text/x-python",
   "name": "python",
   "nbconvert_exporter": "python",
   "pygments_lexer": "ipython3",
   "version": "3.8.10"
  }
 },
 "nbformat": 4,
 "nbformat_minor": 1
}
